{
 "cells": [
  {
   "cell_type": "markdown",
   "metadata": {},
   "source": [
    "# 📑 PROYECTO: A/B test and hypothesis analysis"
   ]
  },
  {
   "cell_type": "markdown",
   "metadata": {},
   "source": [
    "## 🏢 Descripción del Proyecto"
   ]
  },
  {
   "cell_type": "markdown",
   "metadata": {},
   "source": [
    "Este proyecto se desarrolla en el contexto de una gran tienda online que ofrece una amplia gama de productos a sus clientes. El equipo de marketing, en colaboración con el área de análisis, ha generado un conjunto de hipótesis enfocadas en mejorar los ingresos del negocio. Como analista de datos, tu rol es evaluar estas hipótesis, priorizarlas usando marcos de decisión cuantitativos, y analizar los resultados de un test A/B ya ejecutado, con el objetivo de tomar decisiones informadas y respaldadas por datos."
   ]
  },
  {
   "cell_type": "markdown",
   "metadata": {},
   "source": [
    "## 🎯 Objetivo"
   ]
  },
  {
   "cell_type": "markdown",
   "metadata": {},
   "source": [
    "Evaluar y priorizar hipótesis que podrían aumentar los ingresos de la tienda online, utilizando métricas objetivas y modelos de priorización.\n",
    "\n",
    "Analizar los resultados de un experimento A/B para determinar si hay diferencias estadísticamente significativas en el comportamiento de los usuarios entre los grupos de prueba, y tomar decisiones de negocio basadas en los hallazgos.\n",
    "\n",
    "Este análisis permitirá a la empresa tomar decisiones estratégicas informadas sobre qué iniciativas implementar y qué estrategias de marketing o experiencia de usuario deben ser optimizadas.\n",
    "\n"
   ]
  },
  {
   "cell_type": "markdown",
   "metadata": {},
   "source": [
    "## 🧾 Información de los Datasets"
   ]
  },
  {
   "cell_type": "markdown",
   "metadata": {},
   "source": [
    "📄 **Ruta:** `hypotheses_us.csv`\n",
    "\n",
    "| Columna      | Descripción                                                                 |\n",
    "|--------------|------------------------------------------------------------------------------|\n",
    "| `Hypotheses` | Breves descripciones de las hipótesis.                                      |\n",
    "| `Reach`      | Alcance del usuario, en una escala del 1 al 10.                             |\n",
    "| `Impact`     | Impacto en los usuarios, en una escala del 1 al 10.                         |\n",
    "| `Confidence` | Confianza en la hipótesis, en una escala del 1 al 10.                       |\n",
    "| `Effort`     | Recursos necesarios para probar una hipótesis (escala del 1 al 10).         |\n",
    "\n",
    "\n",
    "📄 **Ruta:** `orders_us.csv`\n",
    "\n",
    "| Columna         | Descripción                                                                 |\n",
    "|------------------|-----------------------------------------------------------------------------|\n",
    "| `transactionId`  | Identificador del pedido.                                                   |\n",
    "| `visitorId`      | Identificador del usuario que realizó el pedido.                           |\n",
    "| `date`           | Fecha del pedido.                                                           |\n",
    "| `revenue`        | Ingresos del pedido.                                                        |\n",
    "| `group`          | Grupo del test A/B al que pertenece el usuario.                             |\n",
    "\n",
    "📄 **Ruta:** `visits_us.csv`\n",
    "\n",
    "| Columna | Descripción                                                                 |\n",
    "|---------|------------------------------------------------------------------------------|\n",
    "| `date`  | Fecha de la visita.                                                         |\n",
    "| `group` | Grupo del test A/B.                                                         |\n",
    "| `visits`| Número de visitas en la fecha especificada para el grupo correspondiente.   |"
   ]
  },
  {
   "cell_type": "markdown",
   "metadata": {},
   "source": [
    "## 🗂️ Carga y revisión inicial de datos"
   ]
  },
  {
   "cell_type": "code",
   "execution_count": 9,
   "metadata": {},
   "outputs": [],
   "source": [
    "import pandas as pd\n",
    "import datetime as dt\n",
    "import numpy as np\n",
    "import matplotlib.pyplot as plt\n",
    "import scipy.stats as stats"
   ]
  },
  {
   "cell_type": "code",
   "execution_count": 10,
   "metadata": {},
   "outputs": [],
   "source": [
    "# Cargar el archivo CSV\n",
    "df_hypotheses = pd.read_csv('hypotheses_us.csv', sep=';')"
   ]
  },
  {
   "cell_type": "code",
   "execution_count": 11,
   "metadata": {},
   "outputs": [
    {
     "data": {
      "text/html": [
       "<div>\n",
       "<style scoped>\n",
       "    .dataframe tbody tr th:only-of-type {\n",
       "        vertical-align: middle;\n",
       "    }\n",
       "\n",
       "    .dataframe tbody tr th {\n",
       "        vertical-align: top;\n",
       "    }\n",
       "\n",
       "    .dataframe thead th {\n",
       "        text-align: right;\n",
       "    }\n",
       "</style>\n",
       "<table border=\"1\" class=\"dataframe\">\n",
       "  <thead>\n",
       "    <tr style=\"text-align: right;\">\n",
       "      <th></th>\n",
       "      <th>Hypothesis</th>\n",
       "      <th>Reach</th>\n",
       "      <th>Impact</th>\n",
       "      <th>Confidence</th>\n",
       "      <th>Effort</th>\n",
       "    </tr>\n",
       "  </thead>\n",
       "  <tbody>\n",
       "    <tr>\n",
       "      <th>0</th>\n",
       "      <td>Add two new channels for attracting traffic. T...</td>\n",
       "      <td>3</td>\n",
       "      <td>10</td>\n",
       "      <td>8</td>\n",
       "      <td>6</td>\n",
       "    </tr>\n",
       "    <tr>\n",
       "      <th>1</th>\n",
       "      <td>Launch your own delivery service. This will sh...</td>\n",
       "      <td>2</td>\n",
       "      <td>5</td>\n",
       "      <td>4</td>\n",
       "      <td>10</td>\n",
       "    </tr>\n",
       "    <tr>\n",
       "      <th>2</th>\n",
       "      <td>Add product recommendation blocks to the store...</td>\n",
       "      <td>8</td>\n",
       "      <td>3</td>\n",
       "      <td>7</td>\n",
       "      <td>3</td>\n",
       "    </tr>\n",
       "    <tr>\n",
       "      <th>3</th>\n",
       "      <td>Change the category structure. This will incre...</td>\n",
       "      <td>8</td>\n",
       "      <td>3</td>\n",
       "      <td>3</td>\n",
       "      <td>8</td>\n",
       "    </tr>\n",
       "    <tr>\n",
       "      <th>4</th>\n",
       "      <td>Change the background color on the main page. ...</td>\n",
       "      <td>3</td>\n",
       "      <td>1</td>\n",
       "      <td>1</td>\n",
       "      <td>1</td>\n",
       "    </tr>\n",
       "    <tr>\n",
       "      <th>5</th>\n",
       "      <td>Add a customer review page. This will increase...</td>\n",
       "      <td>3</td>\n",
       "      <td>2</td>\n",
       "      <td>2</td>\n",
       "      <td>3</td>\n",
       "    </tr>\n",
       "    <tr>\n",
       "      <th>6</th>\n",
       "      <td>Show banners with current offers and sales on ...</td>\n",
       "      <td>5</td>\n",
       "      <td>3</td>\n",
       "      <td>8</td>\n",
       "      <td>3</td>\n",
       "    </tr>\n",
       "    <tr>\n",
       "      <th>7</th>\n",
       "      <td>Add a subscription form to all the main pages....</td>\n",
       "      <td>10</td>\n",
       "      <td>7</td>\n",
       "      <td>8</td>\n",
       "      <td>5</td>\n",
       "    </tr>\n",
       "    <tr>\n",
       "      <th>8</th>\n",
       "      <td>Launch a promotion that gives users discounts ...</td>\n",
       "      <td>1</td>\n",
       "      <td>9</td>\n",
       "      <td>9</td>\n",
       "      <td>5</td>\n",
       "    </tr>\n",
       "  </tbody>\n",
       "</table>\n",
       "</div>"
      ],
      "text/plain": [
       "                                          Hypothesis  Reach  Impact  \\\n",
       "0  Add two new channels for attracting traffic. T...      3      10   \n",
       "1  Launch your own delivery service. This will sh...      2       5   \n",
       "2  Add product recommendation blocks to the store...      8       3   \n",
       "3  Change the category structure. This will incre...      8       3   \n",
       "4  Change the background color on the main page. ...      3       1   \n",
       "5  Add a customer review page. This will increase...      3       2   \n",
       "6  Show banners with current offers and sales on ...      5       3   \n",
       "7  Add a subscription form to all the main pages....     10       7   \n",
       "8  Launch a promotion that gives users discounts ...      1       9   \n",
       "\n",
       "   Confidence  Effort  \n",
       "0           8       6  \n",
       "1           4      10  \n",
       "2           7       3  \n",
       "3           3       8  \n",
       "4           1       1  \n",
       "5           2       3  \n",
       "6           8       3  \n",
       "7           8       5  \n",
       "8           9       5  "
      ]
     },
     "metadata": {},
     "output_type": "display_data"
    },
    {
     "name": "stdout",
     "output_type": "stream",
     "text": [
      "\n",
      "<class 'pandas.core.frame.DataFrame'>\n",
      "RangeIndex: 9 entries, 0 to 8\n",
      "Data columns (total 5 columns):\n",
      " #   Column      Non-Null Count  Dtype \n",
      "---  ------      --------------  ----- \n",
      " 0   Hypothesis  9 non-null      object\n",
      " 1   Reach       9 non-null      int64 \n",
      " 2   Impact      9 non-null      int64 \n",
      " 3   Confidence  9 non-null      int64 \n",
      " 4   Effort      9 non-null      int64 \n",
      "dtypes: int64(4), object(1)\n",
      "memory usage: 492.0+ bytes\n",
      "None\n"
     ]
    }
   ],
   "source": [
    "# Verificar las primeras filas de los datos\n",
    "display(df_hypotheses)\n",
    "print()\n",
    "print(df_hypotheses.info())"
   ]
  },
  {
   "cell_type": "code",
   "execution_count": 12,
   "metadata": {},
   "outputs": [],
   "source": [
    "# Cargar el archivo CSV\n",
    "df_orders_raw = pd.read_csv('orders_us.csv')\n",
    "df_visits = pd.read_csv('visits_us.csv')"
   ]
  },
  {
   "cell_type": "code",
   "execution_count": 13,
   "metadata": {},
   "outputs": [
    {
     "data": {
      "text/html": [
       "<div>\n",
       "<style scoped>\n",
       "    .dataframe tbody tr th:only-of-type {\n",
       "        vertical-align: middle;\n",
       "    }\n",
       "\n",
       "    .dataframe tbody tr th {\n",
       "        vertical-align: top;\n",
       "    }\n",
       "\n",
       "    .dataframe thead th {\n",
       "        text-align: right;\n",
       "    }\n",
       "</style>\n",
       "<table border=\"1\" class=\"dataframe\">\n",
       "  <thead>\n",
       "    <tr style=\"text-align: right;\">\n",
       "      <th></th>\n",
       "      <th>transactionId</th>\n",
       "      <th>visitorId</th>\n",
       "      <th>date</th>\n",
       "      <th>revenue</th>\n",
       "      <th>group</th>\n",
       "    </tr>\n",
       "  </thead>\n",
       "  <tbody>\n",
       "    <tr>\n",
       "      <th>0</th>\n",
       "      <td>3667963787</td>\n",
       "      <td>3312258926</td>\n",
       "      <td>2019-08-15</td>\n",
       "      <td>30.4</td>\n",
       "      <td>B</td>\n",
       "    </tr>\n",
       "    <tr>\n",
       "      <th>1</th>\n",
       "      <td>2804400009</td>\n",
       "      <td>3642806036</td>\n",
       "      <td>2019-08-15</td>\n",
       "      <td>15.2</td>\n",
       "      <td>B</td>\n",
       "    </tr>\n",
       "    <tr>\n",
       "      <th>2</th>\n",
       "      <td>2961555356</td>\n",
       "      <td>4069496402</td>\n",
       "      <td>2019-08-15</td>\n",
       "      <td>10.2</td>\n",
       "      <td>A</td>\n",
       "    </tr>\n",
       "    <tr>\n",
       "      <th>3</th>\n",
       "      <td>3797467345</td>\n",
       "      <td>1196621759</td>\n",
       "      <td>2019-08-15</td>\n",
       "      <td>155.1</td>\n",
       "      <td>B</td>\n",
       "    </tr>\n",
       "    <tr>\n",
       "      <th>4</th>\n",
       "      <td>2282983706</td>\n",
       "      <td>2322279887</td>\n",
       "      <td>2019-08-15</td>\n",
       "      <td>40.5</td>\n",
       "      <td>B</td>\n",
       "    </tr>\n",
       "  </tbody>\n",
       "</table>\n",
       "</div>"
      ],
      "text/plain": [
       "   transactionId   visitorId        date  revenue group\n",
       "0     3667963787  3312258926  2019-08-15     30.4     B\n",
       "1     2804400009  3642806036  2019-08-15     15.2     B\n",
       "2     2961555356  4069496402  2019-08-15     10.2     A\n",
       "3     3797467345  1196621759  2019-08-15    155.1     B\n",
       "4     2282983706  2322279887  2019-08-15     40.5     B"
      ]
     },
     "metadata": {},
     "output_type": "display_data"
    },
    {
     "name": "stdout",
     "output_type": "stream",
     "text": [
      "<class 'pandas.core.frame.DataFrame'>\n",
      "RangeIndex: 1197 entries, 0 to 1196\n",
      "Data columns (total 5 columns):\n",
      " #   Column         Non-Null Count  Dtype  \n",
      "---  ------         --------------  -----  \n",
      " 0   transactionId  1197 non-null   int64  \n",
      " 1   visitorId      1197 non-null   int64  \n",
      " 2   date           1197 non-null   object \n",
      " 3   revenue        1197 non-null   float64\n",
      " 4   group          1197 non-null   object \n",
      "dtypes: float64(1), int64(2), object(2)\n",
      "memory usage: 46.9+ KB\n",
      "None\n"
     ]
    }
   ],
   "source": [
    "display(df_orders_raw.head(5))\n",
    "print(df_orders_raw.info())"
   ]
  },
  {
   "cell_type": "code",
   "execution_count": 14,
   "metadata": {},
   "outputs": [
    {
     "data": {
      "text/html": [
       "<div>\n",
       "<style scoped>\n",
       "    .dataframe tbody tr th:only-of-type {\n",
       "        vertical-align: middle;\n",
       "    }\n",
       "\n",
       "    .dataframe tbody tr th {\n",
       "        vertical-align: top;\n",
       "    }\n",
       "\n",
       "    .dataframe thead th {\n",
       "        text-align: right;\n",
       "    }\n",
       "</style>\n",
       "<table border=\"1\" class=\"dataframe\">\n",
       "  <thead>\n",
       "    <tr style=\"text-align: right;\">\n",
       "      <th></th>\n",
       "      <th>date</th>\n",
       "      <th>group</th>\n",
       "      <th>visits</th>\n",
       "    </tr>\n",
       "  </thead>\n",
       "  <tbody>\n",
       "    <tr>\n",
       "      <th>0</th>\n",
       "      <td>2019-08-01</td>\n",
       "      <td>A</td>\n",
       "      <td>719</td>\n",
       "    </tr>\n",
       "    <tr>\n",
       "      <th>1</th>\n",
       "      <td>2019-08-02</td>\n",
       "      <td>A</td>\n",
       "      <td>619</td>\n",
       "    </tr>\n",
       "    <tr>\n",
       "      <th>2</th>\n",
       "      <td>2019-08-03</td>\n",
       "      <td>A</td>\n",
       "      <td>507</td>\n",
       "    </tr>\n",
       "    <tr>\n",
       "      <th>3</th>\n",
       "      <td>2019-08-04</td>\n",
       "      <td>A</td>\n",
       "      <td>717</td>\n",
       "    </tr>\n",
       "    <tr>\n",
       "      <th>4</th>\n",
       "      <td>2019-08-05</td>\n",
       "      <td>A</td>\n",
       "      <td>756</td>\n",
       "    </tr>\n",
       "  </tbody>\n",
       "</table>\n",
       "</div>"
      ],
      "text/plain": [
       "         date group  visits\n",
       "0  2019-08-01     A     719\n",
       "1  2019-08-02     A     619\n",
       "2  2019-08-03     A     507\n",
       "3  2019-08-04     A     717\n",
       "4  2019-08-05     A     756"
      ]
     },
     "metadata": {},
     "output_type": "display_data"
    },
    {
     "name": "stdout",
     "output_type": "stream",
     "text": [
      "<class 'pandas.core.frame.DataFrame'>\n",
      "RangeIndex: 62 entries, 0 to 61\n",
      "Data columns (total 3 columns):\n",
      " #   Column  Non-Null Count  Dtype \n",
      "---  ------  --------------  ----- \n",
      " 0   date    62 non-null     object\n",
      " 1   group   62 non-null     object\n",
      " 2   visits  62 non-null     int64 \n",
      "dtypes: int64(1), object(2)\n",
      "memory usage: 1.6+ KB\n",
      "None\n"
     ]
    }
   ],
   "source": [
    "display(df_visits.head(5))\n",
    "print(df_visits.info())"
   ]
  },
  {
   "cell_type": "markdown",
   "metadata": {},
   "source": [
    "## Priorizar hipótesis (Parte 1)"
   ]
  },
  {
   "cell_type": "markdown",
   "metadata": {},
   "source": [
    "### Framework ICE para priorizar hipótesis"
   ]
  },
  {
   "cell_type": "code",
   "execution_count": 17,
   "metadata": {},
   "outputs": [
    {
     "data": {
      "text/html": [
       "<div>\n",
       "<style scoped>\n",
       "    .dataframe tbody tr th:only-of-type {\n",
       "        vertical-align: middle;\n",
       "    }\n",
       "\n",
       "    .dataframe tbody tr th {\n",
       "        vertical-align: top;\n",
       "    }\n",
       "\n",
       "    .dataframe thead th {\n",
       "        text-align: right;\n",
       "    }\n",
       "</style>\n",
       "<table border=\"1\" class=\"dataframe\">\n",
       "  <thead>\n",
       "    <tr style=\"text-align: right;\">\n",
       "      <th></th>\n",
       "      <th>Hypothesis</th>\n",
       "      <th>ICE_score</th>\n",
       "    </tr>\n",
       "  </thead>\n",
       "  <tbody>\n",
       "    <tr>\n",
       "      <th>8</th>\n",
       "      <td>Launch a promotion that gives users discounts ...</td>\n",
       "      <td>16.200000</td>\n",
       "    </tr>\n",
       "    <tr>\n",
       "      <th>0</th>\n",
       "      <td>Add two new channels for attracting traffic. T...</td>\n",
       "      <td>13.333333</td>\n",
       "    </tr>\n",
       "    <tr>\n",
       "      <th>7</th>\n",
       "      <td>Add a subscription form to all the main pages....</td>\n",
       "      <td>11.200000</td>\n",
       "    </tr>\n",
       "    <tr>\n",
       "      <th>6</th>\n",
       "      <td>Show banners with current offers and sales on ...</td>\n",
       "      <td>8.000000</td>\n",
       "    </tr>\n",
       "    <tr>\n",
       "      <th>2</th>\n",
       "      <td>Add product recommendation blocks to the store...</td>\n",
       "      <td>7.000000</td>\n",
       "    </tr>\n",
       "    <tr>\n",
       "      <th>1</th>\n",
       "      <td>Launch your own delivery service. This will sh...</td>\n",
       "      <td>2.000000</td>\n",
       "    </tr>\n",
       "    <tr>\n",
       "      <th>5</th>\n",
       "      <td>Add a customer review page. This will increase...</td>\n",
       "      <td>1.333333</td>\n",
       "    </tr>\n",
       "    <tr>\n",
       "      <th>3</th>\n",
       "      <td>Change the category structure. This will incre...</td>\n",
       "      <td>1.125000</td>\n",
       "    </tr>\n",
       "    <tr>\n",
       "      <th>4</th>\n",
       "      <td>Change the background color on the main page. ...</td>\n",
       "      <td>1.000000</td>\n",
       "    </tr>\n",
       "  </tbody>\n",
       "</table>\n",
       "</div>"
      ],
      "text/plain": [
       "                                          Hypothesis  ICE_score\n",
       "8  Launch a promotion that gives users discounts ...  16.200000\n",
       "0  Add two new channels for attracting traffic. T...  13.333333\n",
       "7  Add a subscription form to all the main pages....  11.200000\n",
       "6  Show banners with current offers and sales on ...   8.000000\n",
       "2  Add product recommendation blocks to the store...   7.000000\n",
       "1  Launch your own delivery service. This will sh...   2.000000\n",
       "5  Add a customer review page. This will increase...   1.333333\n",
       "3  Change the category structure. This will incre...   1.125000\n",
       "4  Change the background color on the main page. ...   1.000000"
      ]
     },
     "metadata": {},
     "output_type": "display_data"
    }
   ],
   "source": [
    "# ICE score = (Impact x Confidence) / Effort\n",
    "df_hypotheses['ICE_score'] = (df_hypotheses['Impact'] * df_hypotheses['Confidence']) / df_hypotheses['Effort']\n",
    "# Ordenar el DataFrame en orden descendente por la columna 'ICE_score'\n",
    "df_hypotheses_ICE = df_hypotheses.copy()\n",
    "df_hypotheses_ICE = df_hypotheses_ICE.sort_values(by='ICE_score', ascending=False)\n",
    "display(df_hypotheses_ICE[['Hypothesis','ICE_score']])"
   ]
  },
  {
   "cell_type": "code",
   "execution_count": 18,
   "metadata": {},
   "outputs": [
    {
     "data": {
      "text/html": [
       "<div>\n",
       "<style scoped>\n",
       "    .dataframe tbody tr th:only-of-type {\n",
       "        vertical-align: middle;\n",
       "    }\n",
       "\n",
       "    .dataframe tbody tr th {\n",
       "        vertical-align: top;\n",
       "    }\n",
       "\n",
       "    .dataframe thead th {\n",
       "        text-align: right;\n",
       "    }\n",
       "</style>\n",
       "<table border=\"1\" class=\"dataframe\">\n",
       "  <thead>\n",
       "    <tr style=\"text-align: right;\">\n",
       "      <th></th>\n",
       "      <th>Hypothesis</th>\n",
       "      <th>RICE_score</th>\n",
       "    </tr>\n",
       "  </thead>\n",
       "  <tbody>\n",
       "    <tr>\n",
       "      <th>7</th>\n",
       "      <td>Add a subscription form to all the main pages....</td>\n",
       "      <td>112.0</td>\n",
       "    </tr>\n",
       "    <tr>\n",
       "      <th>2</th>\n",
       "      <td>Add product recommendation blocks to the store...</td>\n",
       "      <td>56.0</td>\n",
       "    </tr>\n",
       "    <tr>\n",
       "      <th>0</th>\n",
       "      <td>Add two new channels for attracting traffic. T...</td>\n",
       "      <td>40.0</td>\n",
       "    </tr>\n",
       "    <tr>\n",
       "      <th>6</th>\n",
       "      <td>Show banners with current offers and sales on ...</td>\n",
       "      <td>40.0</td>\n",
       "    </tr>\n",
       "    <tr>\n",
       "      <th>8</th>\n",
       "      <td>Launch a promotion that gives users discounts ...</td>\n",
       "      <td>16.2</td>\n",
       "    </tr>\n",
       "    <tr>\n",
       "      <th>3</th>\n",
       "      <td>Change the category structure. This will incre...</td>\n",
       "      <td>9.0</td>\n",
       "    </tr>\n",
       "    <tr>\n",
       "      <th>1</th>\n",
       "      <td>Launch your own delivery service. This will sh...</td>\n",
       "      <td>4.0</td>\n",
       "    </tr>\n",
       "    <tr>\n",
       "      <th>5</th>\n",
       "      <td>Add a customer review page. This will increase...</td>\n",
       "      <td>4.0</td>\n",
       "    </tr>\n",
       "    <tr>\n",
       "      <th>4</th>\n",
       "      <td>Change the background color on the main page. ...</td>\n",
       "      <td>3.0</td>\n",
       "    </tr>\n",
       "  </tbody>\n",
       "</table>\n",
       "</div>"
      ],
      "text/plain": [
       "                                          Hypothesis  RICE_score\n",
       "7  Add a subscription form to all the main pages....       112.0\n",
       "2  Add product recommendation blocks to the store...        56.0\n",
       "0  Add two new channels for attracting traffic. T...        40.0\n",
       "6  Show banners with current offers and sales on ...        40.0\n",
       "8  Launch a promotion that gives users discounts ...        16.2\n",
       "3  Change the category structure. This will incre...         9.0\n",
       "1  Launch your own delivery service. This will sh...         4.0\n",
       "5  Add a customer review page. This will increase...         4.0\n",
       "4  Change the background color on the main page. ...         3.0"
      ]
     },
     "metadata": {},
     "output_type": "display_data"
    }
   ],
   "source": [
    "# RICE score = (Reach x Impact x Confidence) / Effort\n",
    "df_hypotheses['RICE_score'] = (df_hypotheses['Reach'] * df_hypotheses['Impact'] * df_hypotheses['Confidence']) / df_hypotheses['Effort']\n",
    "# Ordenar el DataFrame en orden descendente por la columna 'ICE_score'\n",
    "df_hypotheses_RICE = df_hypotheses.copy()\n",
    "df_hypotheses_RICE = df_hypotheses_RICE.sort_values(by='RICE_score', ascending=False)\n",
    "display(df_hypotheses_RICE[['Hypothesis','RICE_score']])"
   ]
  },
  {
   "cell_type": "code",
   "execution_count": 19,
   "metadata": {},
   "outputs": [
    {
     "data": {
      "text/html": [
       "<div>\n",
       "<style scoped>\n",
       "    .dataframe tbody tr th:only-of-type {\n",
       "        vertical-align: middle;\n",
       "    }\n",
       "\n",
       "    .dataframe tbody tr th {\n",
       "        vertical-align: top;\n",
       "    }\n",
       "\n",
       "    .dataframe thead th {\n",
       "        text-align: right;\n",
       "    }\n",
       "</style>\n",
       "<table border=\"1\" class=\"dataframe\">\n",
       "  <thead>\n",
       "    <tr style=\"text-align: right;\">\n",
       "      <th></th>\n",
       "      <th>Hypothesis</th>\n",
       "      <th>Reach</th>\n",
       "      <th>Impact</th>\n",
       "      <th>Confidence</th>\n",
       "      <th>Effort</th>\n",
       "      <th>ICE_score</th>\n",
       "      <th>RICE_score</th>\n",
       "    </tr>\n",
       "  </thead>\n",
       "  <tbody>\n",
       "    <tr>\n",
       "      <th>0</th>\n",
       "      <td>Add two new channels for attracting traffic. T...</td>\n",
       "      <td>3</td>\n",
       "      <td>10</td>\n",
       "      <td>8</td>\n",
       "      <td>6</td>\n",
       "      <td>13.333333</td>\n",
       "      <td>40.0</td>\n",
       "    </tr>\n",
       "    <tr>\n",
       "      <th>1</th>\n",
       "      <td>Launch your own delivery service. This will sh...</td>\n",
       "      <td>2</td>\n",
       "      <td>5</td>\n",
       "      <td>4</td>\n",
       "      <td>10</td>\n",
       "      <td>2.000000</td>\n",
       "      <td>4.0</td>\n",
       "    </tr>\n",
       "    <tr>\n",
       "      <th>2</th>\n",
       "      <td>Add product recommendation blocks to the store...</td>\n",
       "      <td>8</td>\n",
       "      <td>3</td>\n",
       "      <td>7</td>\n",
       "      <td>3</td>\n",
       "      <td>7.000000</td>\n",
       "      <td>56.0</td>\n",
       "    </tr>\n",
       "    <tr>\n",
       "      <th>3</th>\n",
       "      <td>Change the category structure. This will incre...</td>\n",
       "      <td>8</td>\n",
       "      <td>3</td>\n",
       "      <td>3</td>\n",
       "      <td>8</td>\n",
       "      <td>1.125000</td>\n",
       "      <td>9.0</td>\n",
       "    </tr>\n",
       "    <tr>\n",
       "      <th>4</th>\n",
       "      <td>Change the background color on the main page. ...</td>\n",
       "      <td>3</td>\n",
       "      <td>1</td>\n",
       "      <td>1</td>\n",
       "      <td>1</td>\n",
       "      <td>1.000000</td>\n",
       "      <td>3.0</td>\n",
       "    </tr>\n",
       "    <tr>\n",
       "      <th>5</th>\n",
       "      <td>Add a customer review page. This will increase...</td>\n",
       "      <td>3</td>\n",
       "      <td>2</td>\n",
       "      <td>2</td>\n",
       "      <td>3</td>\n",
       "      <td>1.333333</td>\n",
       "      <td>4.0</td>\n",
       "    </tr>\n",
       "    <tr>\n",
       "      <th>6</th>\n",
       "      <td>Show banners with current offers and sales on ...</td>\n",
       "      <td>5</td>\n",
       "      <td>3</td>\n",
       "      <td>8</td>\n",
       "      <td>3</td>\n",
       "      <td>8.000000</td>\n",
       "      <td>40.0</td>\n",
       "    </tr>\n",
       "    <tr>\n",
       "      <th>7</th>\n",
       "      <td>Add a subscription form to all the main pages....</td>\n",
       "      <td>10</td>\n",
       "      <td>7</td>\n",
       "      <td>8</td>\n",
       "      <td>5</td>\n",
       "      <td>11.200000</td>\n",
       "      <td>112.0</td>\n",
       "    </tr>\n",
       "    <tr>\n",
       "      <th>8</th>\n",
       "      <td>Launch a promotion that gives users discounts ...</td>\n",
       "      <td>1</td>\n",
       "      <td>9</td>\n",
       "      <td>9</td>\n",
       "      <td>5</td>\n",
       "      <td>16.200000</td>\n",
       "      <td>16.2</td>\n",
       "    </tr>\n",
       "  </tbody>\n",
       "</table>\n",
       "</div>"
      ],
      "text/plain": [
       "                                          Hypothesis  Reach  Impact  \\\n",
       "0  Add two new channels for attracting traffic. T...      3      10   \n",
       "1  Launch your own delivery service. This will sh...      2       5   \n",
       "2  Add product recommendation blocks to the store...      8       3   \n",
       "3  Change the category structure. This will incre...      8       3   \n",
       "4  Change the background color on the main page. ...      3       1   \n",
       "5  Add a customer review page. This will increase...      3       2   \n",
       "6  Show banners with current offers and sales on ...      5       3   \n",
       "7  Add a subscription form to all the main pages....     10       7   \n",
       "8  Launch a promotion that gives users discounts ...      1       9   \n",
       "\n",
       "   Confidence  Effort  ICE_score  RICE_score  \n",
       "0           8       6  13.333333        40.0  \n",
       "1           4      10   2.000000         4.0  \n",
       "2           7       3   7.000000        56.0  \n",
       "3           3       8   1.125000         9.0  \n",
       "4           1       1   1.000000         3.0  \n",
       "5           2       3   1.333333         4.0  \n",
       "6           8       3   8.000000        40.0  \n",
       "7           8       5  11.200000       112.0  \n",
       "8           9       5  16.200000        16.2  "
      ]
     },
     "execution_count": 19,
     "metadata": {},
     "output_type": "execute_result"
    }
   ],
   "source": [
    "df_hypotheses"
   ]
  },
  {
   "cell_type": "code",
   "execution_count": 20,
   "metadata": {},
   "outputs": [
    {
     "name": "stdout",
     "output_type": "stream",
     "text": [
      "\n",
      "Cambio en la priorización entre ICE y RICE:\n",
      "ICE: Launch a promotion that gives users discounts on their birthdays | RICE: Add a subscription form to all the main pages. This will help you compile a mailing list\n",
      "ICE: Add two new channels for attracting traffic. This will bring 30% more users | RICE: Add product recommendation blocks to the store's site. This will increase conversion and average purchase size\n",
      "ICE: Add a subscription form to all the main pages. This will help you compile a mailing list | RICE: Add two new channels for attracting traffic. This will bring 30% more users\n",
      "ICE: Show banners with current offers and sales on the main page. This will boost conversion | RICE: Show banners with current offers and sales on the main page. This will boost conversion\n",
      "ICE: Add product recommendation blocks to the store's site. This will increase conversion and average purchase size | RICE: Launch a promotion that gives users discounts on their birthdays\n",
      "ICE: Launch your own delivery service. This will shorten delivery time | RICE: Change the category structure. This will increase conversion since users will find the products they want more quickly\n",
      "ICE: Add a customer review page. This will increase the number of orders | RICE: Launch your own delivery service. This will shorten delivery time\n",
      "ICE: Change the category structure. This will increase conversion since users will find the products they want more quickly | RICE: Add a customer review page. This will increase the number of orders\n",
      "ICE: Change the background color on the main page. This will increase user engagement | RICE: Change the background color on the main page. This will increase user engagement\n"
     ]
    }
   ],
   "source": [
    "# Comparar los cambios en la priorización\n",
    "ice_hypotheses = df_hypotheses_ICE[['Hypothesis','ICE_score']]\n",
    "ice_hypotheses = ice_hypotheses['Hypothesis'].values\n",
    "rice_hypotheses = df_hypotheses_RICE[['Hypothesis','RICE_score']]\n",
    "rice_hypotheses = rice_hypotheses['Hypothesis'].values\n",
    "\n",
    "print(\"\\nCambio en la priorización entre ICE y RICE:\")\n",
    "for ice, rice in zip(ice_hypotheses, rice_hypotheses):\n",
    "    print(f\"ICE: {ice} | RICE: {rice}\")"
   ]
  },
  {
   "cell_type": "markdown",
   "metadata": {},
   "source": [
    "**Conclusión<br>ICE prioriza hipótesis que requieren menos esfuerzo, y tiene en cuenta solo impacto, confianza y esfuerzo.<br>RICE le da mayor peso al alcance, lo que modificó la priorización. Esto se nota en cómo las hipótesis que afectan a más usuarios o que tienen un potencial mayor para impactar a la base de usuarios completa se priorizan más en RICE.**\n",
    "\n",
    "La hipótesis \"Launch a promotion that gives users discounts on their birthdays\" tiene un ICE score de 16.2, que es el puntaje más alto, por lo que debería recibir alta prioridad.Sin embargo, con la metodologia RICE esta hipótesis pasa al 5to puesto de prioridad debido a que no tiene gran alcance. <br> La hipótesis \"Add a subscription form to all the main pages. This will help you compile a mailing list\" tiene un RICE score de 112, que es el puntaje más alto, por lo que debería recibir alta prioridad. Esta hipostesis también aparece en el tercer puesto de prioridad del ICE."
   ]
  },
  {
   "cell_type": "markdown",
   "metadata": {},
   "source": [
    "### 💡 Recomendaciones"
   ]
  },
  {
   "cell_type": "markdown",
   "metadata": {},
   "source": [
    "Prioriza las hipótesis con alto RICE, ya que este framework toma en cuenta el alcance del cambio, lo cual es crucial en estrategias escalables. Implementar primero las que requieren menos recursos y tienen alto alcance e impacto te permitirá obtener resultados rápidos y valiosos, optimizando el uso del tiempo y presupuesto del equipo.\n",
    "\n",
    "🔝 Hipótesis más recomendadas (según RICE):<br>\n",
    "1. Add a subscription form to all the main pages.<br>\n",
    "RICE score: 112.0 → ⭐ Mayor puntuación<br>\n",
    "Alta combinación de reach (10), impact (7), y confianza (8), con un esfuerzo moderado (5).<br>\n",
    "Muy efectiva a escala, con bajo costo relativo y alta probabilidad de éxito.<br>\n",
    "\n",
    "2. Add product recommendation blocks to the store.<br>\n",
    "RICE score: 56.0<br>\n",
    "Tiene buen alcance (8) y confianza (7) con bajo esfuerzo (3).<br>\n",
    "Ideal para mejorar conversión sin gran inversión.<br>\n",
    "\n",
    "3. Add two new channels for attracting traffic.<br>\n",
    "RICE score: 40.0<br>\n",
    "Aunque el alcance es menor (3), el impacto (10) y confianza (8) son altos.<br>\n",
    "Interesante si se busca atraer nuevos usuarios con buen retorno."
   ]
  },
  {
   "cell_type": "markdown",
   "metadata": {},
   "source": [
    "## Análisis del test A/B (Parte 2)"
   ]
  },
  {
   "cell_type": "markdown",
   "metadata": {},
   "source": [
    "### 🧑‍💻 Preprocesamiento de Datos"
   ]
  },
  {
   "cell_type": "markdown",
   "metadata": {},
   "source": [
    "Convertir la columna date de los data frames df_orders y df_visits a tipo 'datetime64[ns]'"
   ]
  },
  {
   "cell_type": "code",
   "execution_count": 27,
   "metadata": {},
   "outputs": [
    {
     "name": "stdout",
     "output_type": "stream",
     "text": [
      "object\n"
     ]
    }
   ],
   "source": [
    "# Verificar el tipo de dato de la columna 'date' del dataframe df_orders\n",
    "print(df_orders_raw['date'].dtype)"
   ]
  },
  {
   "cell_type": "code",
   "execution_count": 28,
   "metadata": {},
   "outputs": [
    {
     "name": "stdout",
     "output_type": "stream",
     "text": [
      "datetime64[ns]\n"
     ]
    }
   ],
   "source": [
    "# Ahora usa map() para convertir cada valor de la columna 'date' a datetime\n",
    "df_orders_raw['date'] = df_orders_raw['date'].map(\n",
    "    lambda x: dt.datetime.strptime(x, '%Y-%m-%d')\n",
    ")\n",
    "\n",
    "# Verifica que la conversión se haya realizado correctamente\n",
    "print(df_orders_raw['date'].dtype)  # Ahora la columna date debe ser del tipo 'datetime64[ns]'"
   ]
  },
  {
   "cell_type": "code",
   "execution_count": 29,
   "metadata": {},
   "outputs": [
    {
     "name": "stdout",
     "output_type": "stream",
     "text": [
      "object\n"
     ]
    }
   ],
   "source": [
    "# Verificar el tipo de dato de la columna 'date' del dataframe df_visits\n",
    "print(df_visits['date'].dtype)"
   ]
  },
  {
   "cell_type": "code",
   "execution_count": 30,
   "metadata": {},
   "outputs": [
    {
     "name": "stdout",
     "output_type": "stream",
     "text": [
      "datetime64[ns]\n"
     ]
    }
   ],
   "source": [
    "# Ahora usa map() para convertir cada valor de la columna 'date' de df_visits a datetime\n",
    "df_visits['date'] = df_visits['date'].map(\n",
    "    lambda x: dt.datetime.strptime(x, '%Y-%m-%d')\n",
    ")\n",
    "\n",
    "# Verifica que la conversión se haya realizado correctamente\n",
    "print(df_visits['date'].dtype)  "
   ]
  },
  {
   "cell_type": "markdown",
   "metadata": {},
   "source": [
    "Algunos de los visitantes podrían haber entrado tanto en el grupo A como en el grupo B."
   ]
  },
  {
   "cell_type": "code",
   "execution_count": 32,
   "metadata": {},
   "outputs": [
    {
     "name": "stdout",
     "output_type": "stream",
     "text": [
      "    visitorId group  count\n",
      "2     8300375     A      1\n",
      "3     8300375     B      1\n",
      "45  199603092     A      4\n",
      "46  199603092     B      1\n",
      "53  232979603     A      1\n",
      "54  232979603     B      1\n",
      "58  237748145     A      4\n",
      "59  237748145     B      1\n",
      "70  276558944     A      1\n",
      "71  276558944     B      1\n",
      "cantidad de usuarios que entraron en grupo A y B: 58\n"
     ]
    }
   ],
   "source": [
    "# Realiza un groupby() para contar las ocurrencias\n",
    "df_1 = df_orders_raw.groupby(['visitorId', 'group']).size().reset_index(name='count')\n",
    "# Ahora filtra las filas donde 'visitorId' tiene duplicados\n",
    "duplicated_visitorIds = df_1[df_1.duplicated(subset=['visitorId'], keep=False)]\n",
    "# Mostrar el DataFrame con los duplicados\n",
    "print(duplicated_visitorIds.head(10))\n",
    "print('cantidad de usuarios que entraron en grupo A y B:', duplicated_visitorIds['visitorId'].nunique())"
   ]
  },
  {
   "cell_type": "markdown",
   "metadata": {},
   "source": [
    "Son 58 usuarios que entraron en grupos A y B .Por lo tanto, eliminaré duplicados en el grupo con menos transacciones: Si un visitorId tiene transacciones tanto en el grupo A como en el grupo B, se eliminarán las filas del grupo con menos transacciones (es decir, se quedará solo en el grupo en el que tiene más transacciones)."
   ]
  },
  {
   "cell_type": "code",
   "execution_count": 34,
   "metadata": {},
   "outputs": [
    {
     "name": "stdout",
     "output_type": "stream",
     "text": [
      "   transactionId   visitorId       date  revenue group\n",
      "0     3667963787  3312258926 2019-08-15     30.4     B\n",
      "1     2804400009  3642806036 2019-08-15     15.2     B\n",
      "2     2961555356  4069496402 2019-08-15     10.2     A\n",
      "3     3797467345  1196621759 2019-08-15    155.1     B\n",
      "4     2282983706  2322279887 2019-08-15     40.5     B\n",
      "\n",
      "<class 'pandas.core.frame.DataFrame'>\n",
      "Index: 1126 entries, 0 to 1196\n",
      "Data columns (total 5 columns):\n",
      " #   Column         Non-Null Count  Dtype         \n",
      "---  ------         --------------  -----         \n",
      " 0   transactionId  1126 non-null   int64         \n",
      " 1   visitorId      1126 non-null   int64         \n",
      " 2   date           1126 non-null   datetime64[ns]\n",
      " 3   revenue        1126 non-null   float64       \n",
      " 4   group          1126 non-null   object        \n",
      "dtypes: datetime64[ns](1), float64(1), int64(2), object(1)\n",
      "memory usage: 52.8+ KB\n",
      "None\n"
     ]
    }
   ],
   "source": [
    "# Contar el número de transacciones por grupo para cada visitorId\n",
    "transaction_counts = df_orders_raw.groupby(['visitorId', 'group']).size().unstack(fill_value=0)\n",
    "\n",
    "# Encontrar el grupo con más transacciones para cada visitorId\n",
    "transaction_counts['max_group'] = transaction_counts.idxmax(axis=1)\n",
    "\n",
    "# Ahora, asignamos el visitorId al grupo con más transacciones\n",
    "df_orders_raw['final_group'] = df_orders_raw['visitorId'].map(transaction_counts['max_group'])\n",
    "\n",
    "# Filtrar los datos para que cada visitorId esté solo en el grupo con más transacciones\n",
    "df_orders = df_orders_raw[df_orders_raw['group'] == df_orders_raw['final_group']]\n",
    "\n",
    "# Seleccionar solo las columnas con las que se trabajará\n",
    "df_orders = df_orders[['transactionId', 'visitorId', 'date', 'revenue', 'group']]\n",
    "\n",
    "# Ver el DataFrame limpio\n",
    "print(df_orders.head(5)) \n",
    "print()\n",
    "print(df_orders.info()) \n",
    "# # Comprobar\n",
    "# print(df_orders_cleaned[df_orders_cleaned['visitorId']==237748145])"
   ]
  },
  {
   "cell_type": "markdown",
   "metadata": {},
   "source": [
    "### Análisis del test A/B "
   ]
  },
  {
   "cell_type": "markdown",
   "metadata": {},
   "source": [
    "#### Representación gráfica del ingreso acumulado por grupo. "
   ]
  },
  {
   "cell_type": "code",
   "execution_count": 37,
   "metadata": {},
   "outputs": [
    {
     "name": "stdout",
     "output_type": "stream",
     "text": [
      "          date group  transactionId  visitorId  revenue\n",
      "533 2019-08-29     B            550        503  79771.3\n",
      "730 2019-08-30     A            525        480  60962.9\n",
      "690 2019-08-30     B            572        524  83093.9\n",
      "958 2019-08-31     A            537        490  61954.3\n",
      "930 2019-08-31     B            589        541  84881.6\n"
     ]
    }
   ],
   "source": [
    "# Eliminar duplicados para las columnas 'date' y 'group'\n",
    "datesGroups = df_orders[['date', 'group']].drop_duplicates()\n",
    "# Realizar la agregación\n",
    "ordersAggregated = datesGroups.apply(\n",
    "    lambda x: df_orders[\n",
    "        np.logical_and(\n",
    "            df_orders['date'] <= x['date'], df_orders['group'] == x['group']\n",
    "        )\n",
    "    ].agg(\n",
    "        {\n",
    "            'date': 'max',  # El valor máximo de la fecha\n",
    "            'group': 'max',  # El valor máximo del grupo (que debería ser siempre el mismo para un grupo)\n",
    "            'transactionId': pd.Series.nunique,  # Número de transacciones únicas\n",
    "            'visitorId': pd.Series.nunique,  # Número de visitantes únicos (comprobar)\n",
    "            'revenue': 'sum',  # Suma de los ingresos\n",
    "        }\n",
    "    ),\n",
    "    axis=1,\n",
    ").sort_values(by=['date', 'group'])\n",
    "\n",
    "# Verificar el resultado\n",
    "print(ordersAggregated.tail(5))"
   ]
  },
  {
   "cell_type": "code",
   "execution_count": 38,
   "metadata": {},
   "outputs": [
    {
     "data": {
      "image/png": "[encoded data removed]",
      "text/plain": [
       "<Figure size 1200x500 with 1 Axes>"
      ]
     },
     "metadata": {},
     "output_type": "display_data"
    }
   ],
   "source": [
    "plt.figure(figsize=(12, 5))  # (ancho, alto)\n",
    "\n",
    "# DataFrame con pedidos acumulados e ingresos acumulados por día, grupo A\n",
    "cumulativeRevenueA = ordersAggregated[ordersAggregated['group']=='A'][['date','revenue']]\n",
    "\n",
    "# DataFrame con pedidos acumulados e ingresos acumulados por día, grupo B\n",
    "cumulativeRevenueB = ordersAggregated[ordersAggregated['group']=='B'][['date','revenue']]\n",
    "\n",
    "# Trazar el gráfico de ingresos del grupo A\n",
    "plt.plot(cumulativeRevenueA['date'], cumulativeRevenueA['revenue'], label='A')\n",
    "\n",
    "# Trazar el gráfico de ingresos del grupo B\n",
    "plt.plot(cumulativeRevenueB['date'], cumulativeRevenueB['revenue'], label='B')\n",
    "\n",
    "plt.legend()\n",
    "\n",
    "# Añadir etiquetas y título\n",
    "plt.xlabel('Fecha')\n",
    "plt.ylabel('Ingresos acumulados')\n",
    "plt.title('Ingresos acumulados por grupo A y B')\n",
    "\n",
    "# Rotar las etiquetas del eje X a 45 grados\n",
    "plt.xticks(rotation=45)\n",
    "\n",
    "# Mostrar el gráfico\n",
    "plt.show()"
   ]
  },
  {
   "cell_type": "markdown",
   "metadata": {},
   "source": [
    "**Conclusiones**<br>Este análisis muestra que el grupo B ha logrado un crecimiento significativamente más rápido a partir del día 5, con un gran impulso en el día 19, mientras que el grupo A parece haber quedado rezagado.<br>El grupo A sigue una curva lineal en su gráfico. Es decir, el grupo A está generando casi la misma cantidad de ingresos adicionales cada día."
   ]
  },
  {
   "cell_type": "markdown",
   "metadata": {},
   "source": [
    "#### Representa gráficamente el tamaño de pedido promedio acumulado por grupo. "
   ]
  },
  {
   "cell_type": "code",
   "execution_count": 41,
   "metadata": {},
   "outputs": [
    {
     "data": {
      "image/png": "[encoded data removed]",
      "text/plain": [
       "<Figure size 1200x500 with 1 Axes>"
      ]
     },
     "metadata": {},
     "output_type": "display_data"
    }
   ],
   "source": [
    "plt.figure(figsize=(12, 5))  # (ancho, alto)\n",
    "cumulativeRevenueA_1 = ordersAggregated[ordersAggregated['group']=='A'][['date','revenue','transactionId']\n",
    "]\n",
    "cumulativeRevenueB_1 = ordersAggregated[ordersAggregated['group']=='B'][['date','revenue','transactionId']\n",
    "]\n",
    "\n",
    "plt.plot(cumulativeRevenueA_1['date'], cumulativeRevenueA_1['revenue']/cumulativeRevenueA_1['transactionId'], label='A')\n",
    "plt.plot(cumulativeRevenueB_1['date'], cumulativeRevenueB_1['revenue']/cumulativeRevenueB_1['transactionId'], label='B')\n",
    "plt.legend()\n",
    "\n",
    "# Añadir etiquetas y título\n",
    "plt.xlabel('Fecha')\n",
    "plt.ylabel('Tamaño de pedido promedio')\n",
    "plt.title('Tamaño de pedido promedio acumulados por grupo A y B')\n",
    "\n",
    "# Rotar las etiquetas del eje X a 45 grados\n",
    "plt.xticks(rotation=45)\n",
    "\n",
    "# Mostrar el gráfico\n",
    "plt.show()"
   ]
  },
  {
   "cell_type": "markdown",
   "metadata": {},
   "source": [
    "**Conclusiones**<br> Del grupo A: A medida que avanza el mes, se observa que el tamaño de pedido promedio tiende a aumentar gradualmente.<br>En las primeras semanas del mes, el tamaño de los pedidos se mantiene relativamente estable y ligeramente decreciente (el valor promedio comienza en torno a 98.20 y baja a 76.51 en los primeros días). Sin embargo, esto parece estabilizarse y luego subir progresivamente hacia el final.\n",
    "\n",
    "Del grupo B: el tamaño de pedido promedio en el grupo B tiende a aumentar a medida que avanza el mes. Sin embargo, la diferencia clave es que en el grupo B el aumento es más consistente y pronunciado. A partir del día 19 de agosto, se ve un aumento más agresivo en el tamaño de los pedidos, lo que podría indicar una estrategia o cambio significativo que favoreció un aumento en el valor promedio de los pedidos."
   ]
  },
  {
   "cell_type": "markdown",
   "metadata": {},
   "source": [
    "#### Representa gráficamente la diferencia relativa en el tamaño de pedido promedio acumulado para el grupo B en comparación con el grupo A."
   ]
  },
  {
   "cell_type": "code",
   "execution_count": 44,
   "metadata": {},
   "outputs": [
    {
     "data": {
      "text/plain": [
       "<matplotlib.lines.Line2D at 0x1f2c88331a0>"
      ]
     },
     "execution_count": 44,
     "metadata": {},
     "output_type": "execute_result"
    },
    {
     "data": {
      "image/png": "[encoded data removed]",
      "text/plain": [
       "<Figure size 1200x500 with 1 Axes>"
      ]
     },
     "metadata": {},
     "output_type": "display_data"
    }
   ],
   "source": [
    "# reunir los datos en un DataFrame\n",
    "mergedCumulativeRevenue = cumulativeRevenueA_1.merge(cumulativeRevenueB_1, left_on='date', right_on='date', how='left', suffixes=['A', 'B'])\n",
    "\n",
    "plt.figure(figsize=(12, 5))  # (ancho, alto)\n",
    "# trazar un gráfico de diferencia relativa para los tamaños de pedido promedio\n",
    "plt.plot(mergedCumulativeRevenue['date'], (mergedCumulativeRevenue['revenueB']/mergedCumulativeRevenue['transactionIdB'])/(mergedCumulativeRevenue['revenueA']/mergedCumulativeRevenue['transactionIdA'])-1)\n",
    "\n",
    "# agregar el eje X\n",
    "plt.axhline(y=0, color='black', linestyle='--')"
   ]
  },
  {
   "cell_type": "markdown",
   "metadata": {},
   "source": [
    "**Conclusión**<br>Si el resultado es 0, significa que el tamaño promedio de pedido de B es igual al de A.<br>Si el resultado es positivo, significa que el tamaño promedio de pedido de B es mayor que el de A en ese porcentaje.<br>Si el resultado es negativo, significa que el tamaño promedio de pedido de B es menor que el de A en ese porcentaje.\n",
    "\n",
    "Por lo que se observa en el gráfico, el tamaño promedio de pedido de B es mayor que el de A."
   ]
  },
  {
   "cell_type": "markdown",
   "metadata": {},
   "source": [
    "#### Calcula la tasa de conversión de cada grupo como la relación entre los pedidos y el número de visitas de cada día. Representa gráficamente las tasas de conversión diarias de los dos grupos y describe la diferencia. "
   ]
  },
  {
   "cell_type": "markdown",
   "metadata": {},
   "source": [
    "<!-- #### Calcula la tasa de conversión de cada grupo como la relación entre los pedidos y el número de visitas de cada día. Representa gráficamente las tasas de conversión diarias de los dos grupos y describe la diferencia. Saca conclusiones y haz conjeturas. -->"
   ]
  },
  {
   "cell_type": "code",
   "execution_count": 48,
   "metadata": {},
   "outputs": [],
   "source": [
    "visitorsAggregated = datesGroups.apply(\n",
    "    lambda x: df_visits[\n",
    "        np.logical_and(\n",
    "            df_visits['date'] <= x['date'], df_visits['group'] == x['group']\n",
    "        )\n",
    "    ].agg({'date': 'max', 'group': 'max', 'visits': 'sum'}),\n",
    "    axis=1,\n",
    ").sort_values(by=['date', 'group'])\n",
    "# display(visitorsAggregated)"
   ]
  },
  {
   "cell_type": "code",
   "execution_count": 49,
   "metadata": {},
   "outputs": [
    {
     "data": {
      "text/html": [
       "<div>\n",
       "<style scoped>\n",
       "    .dataframe tbody tr th:only-of-type {\n",
       "        vertical-align: middle;\n",
       "    }\n",
       "\n",
       "    .dataframe tbody tr th {\n",
       "        vertical-align: top;\n",
       "    }\n",
       "\n",
       "    .dataframe thead th {\n",
       "        text-align: right;\n",
       "    }\n",
       "</style>\n",
       "<table border=\"1\" class=\"dataframe\">\n",
       "  <thead>\n",
       "    <tr style=\"text-align: right;\">\n",
       "      <th></th>\n",
       "      <th>date</th>\n",
       "      <th>group</th>\n",
       "      <th>transactions</th>\n",
       "      <th>users</th>\n",
       "      <th>revenue</th>\n",
       "      <th>visitors</th>\n",
       "    </tr>\n",
       "  </thead>\n",
       "  <tbody>\n",
       "    <tr>\n",
       "      <th>0</th>\n",
       "      <td>2019-08-01</td>\n",
       "      <td>A</td>\n",
       "      <td>24</td>\n",
       "      <td>20</td>\n",
       "      <td>2356.8</td>\n",
       "      <td>719</td>\n",
       "    </tr>\n",
       "    <tr>\n",
       "      <th>1</th>\n",
       "      <td>2019-08-01</td>\n",
       "      <td>B</td>\n",
       "      <td>19</td>\n",
       "      <td>18</td>\n",
       "      <td>1328.4</td>\n",
       "      <td>713</td>\n",
       "    </tr>\n",
       "    <tr>\n",
       "      <th>2</th>\n",
       "      <td>2019-08-02</td>\n",
       "      <td>A</td>\n",
       "      <td>44</td>\n",
       "      <td>38</td>\n",
       "      <td>3860.3</td>\n",
       "      <td>1338</td>\n",
       "    </tr>\n",
       "    <tr>\n",
       "      <th>3</th>\n",
       "      <td>2019-08-02</td>\n",
       "      <td>B</td>\n",
       "      <td>42</td>\n",
       "      <td>40</td>\n",
       "      <td>3896.5</td>\n",
       "      <td>1294</td>\n",
       "    </tr>\n",
       "    <tr>\n",
       "      <th>4</th>\n",
       "      <td>2019-08-03</td>\n",
       "      <td>A</td>\n",
       "      <td>68</td>\n",
       "      <td>62</td>\n",
       "      <td>5675.5</td>\n",
       "      <td>1845</td>\n",
       "    </tr>\n",
       "  </tbody>\n",
       "</table>\n",
       "</div>"
      ],
      "text/plain": [
       "        date group  transactions  users  revenue  visitors\n",
       "0 2019-08-01     A            24     20   2356.8       719\n",
       "1 2019-08-01     B            19     18   1328.4       713\n",
       "2 2019-08-02     A            44     38   3860.3      1338\n",
       "3 2019-08-02     B            42     40   3896.5      1294\n",
       "4 2019-08-03     A            68     62   5675.5      1845"
      ]
     },
     "metadata": {},
     "output_type": "display_data"
    }
   ],
   "source": [
    "cumulativeData = ordersAggregated.merge(\n",
    "    visitorsAggregated, left_on=['date', 'group'], right_on=['date', 'group']\n",
    ")\n",
    "cumulativeData.columns = [\n",
    "    'date',\n",
    "    'group',\n",
    "    'transactions',\n",
    "    'users',\n",
    "    'revenue',\n",
    "    'visitors',\n",
    "]\n",
    "display(cumulativeData.head(5))"
   ]
  },
  {
   "cell_type": "code",
   "execution_count": 50,
   "metadata": {},
   "outputs": [
    {
     "data": {
      "image/png": "[encoded data removed]",
      "text/plain": [
       "<Figure size 1200x500 with 1 Axes>"
      ]
     },
     "metadata": {},
     "output_type": "display_data"
    }
   ],
   "source": [
    "# calcular la conversión acumulada\n",
    "cumulativeData['conversion'] = cumulativeData['transactions']/cumulativeData['visitors']\n",
    "\n",
    "# seleccionar datos en el grupo A\n",
    "cumulativeDataA = cumulativeData[cumulativeData['group']=='A']\n",
    "\n",
    "# seleccionar datos en el grupo B\n",
    "cumulativeDataB = cumulativeData[cumulativeData['group']=='B']\n",
    "\n",
    "plt.figure(figsize=(12, 5))  # (ancho, alto)\n",
    "# trazar los gráficos\n",
    "plt.plot(cumulativeDataA['date'], cumulativeDataA['conversion'], label='A')\n",
    "plt.plot(cumulativeDataB['date'], cumulativeDataB['conversion'], label='B')\n",
    "plt.legend()\n",
    "\n",
    "# Añadir etiquetas y título\n",
    "plt.xlabel('Fecha')\n",
    "plt.ylabel('Tasa de conversión')\n",
    "plt.title('Tasa de conversión acumulados por grupo A y B')\n",
    "\n",
    "# Rotar las etiquetas del eje X a 45 grados\n",
    "plt.xticks(rotation=45)\n",
    "\n",
    "# Mostrar el gráfico\n",
    "plt.show()"
   ]
  },
  {
   "cell_type": "markdown",
   "metadata": {},
   "source": [
    "**Conclusión**<br>**Grupo A**: la disminución de la tasa de conversión sugiere que la eficiencia de la conversión podría estar decayendo. El equipo podría necesitar ajustes en las estrategias de marketing.Al principio del mes, el Grupo A puede haber atraído tráfico más cualificado (visitantes que tenían más probabilidades de convertirse en clientes), lo que resultó en una tasa de conversión más alta.A medida que el mes avanzó, el número de visitantes aumentó, pero es posible que estos visitantes fueran menos cualificados o estuvieran menos interesados en realizar una conversión.<br>**Grupo B** ha mostrado una mayor estabilidad y ligera mejora en su tasa de conversión durante el mes de agosto, lo que podría indicar que sus estrategias de marketing, ventas o retención están siendo más efectivas."
   ]
  },
  {
   "cell_type": "markdown",
   "metadata": {},
   "source": [
    "#### Traza un gráfico de dispersión del número de pedidos por usuario."
   ]
  },
  {
   "cell_type": "code",
   "execution_count": 53,
   "metadata": {},
   "outputs": [
    {
     "data": {
      "text/html": [
       "<div>\n",
       "<style scoped>\n",
       "    .dataframe tbody tr th:only-of-type {\n",
       "        vertical-align: middle;\n",
       "    }\n",
       "\n",
       "    .dataframe tbody tr th {\n",
       "        vertical-align: top;\n",
       "    }\n",
       "\n",
       "    .dataframe thead th {\n",
       "        text-align: right;\n",
       "    }\n",
       "</style>\n",
       "<table border=\"1\" class=\"dataframe\">\n",
       "  <thead>\n",
       "    <tr style=\"text-align: right;\">\n",
       "      <th></th>\n",
       "      <th>transactionId</th>\n",
       "      <th>visitorId</th>\n",
       "      <th>date</th>\n",
       "      <th>revenue</th>\n",
       "      <th>group</th>\n",
       "    </tr>\n",
       "  </thead>\n",
       "  <tbody>\n",
       "    <tr>\n",
       "      <th>0</th>\n",
       "      <td>3667963787</td>\n",
       "      <td>3312258926</td>\n",
       "      <td>2019-08-15</td>\n",
       "      <td>30.4</td>\n",
       "      <td>B</td>\n",
       "    </tr>\n",
       "    <tr>\n",
       "      <th>1</th>\n",
       "      <td>2804400009</td>\n",
       "      <td>3642806036</td>\n",
       "      <td>2019-08-15</td>\n",
       "      <td>15.2</td>\n",
       "      <td>B</td>\n",
       "    </tr>\n",
       "    <tr>\n",
       "      <th>2</th>\n",
       "      <td>2961555356</td>\n",
       "      <td>4069496402</td>\n",
       "      <td>2019-08-15</td>\n",
       "      <td>10.2</td>\n",
       "      <td>A</td>\n",
       "    </tr>\n",
       "    <tr>\n",
       "      <th>3</th>\n",
       "      <td>3797467345</td>\n",
       "      <td>1196621759</td>\n",
       "      <td>2019-08-15</td>\n",
       "      <td>155.1</td>\n",
       "      <td>B</td>\n",
       "    </tr>\n",
       "  </tbody>\n",
       "</table>\n",
       "</div>"
      ],
      "text/plain": [
       "   transactionId   visitorId       date  revenue group\n",
       "0     3667963787  3312258926 2019-08-15     30.4     B\n",
       "1     2804400009  3642806036 2019-08-15     15.2     B\n",
       "2     2961555356  4069496402 2019-08-15     10.2     A\n",
       "3     3797467345  1196621759 2019-08-15    155.1     B"
      ]
     },
     "metadata": {},
     "output_type": "display_data"
    }
   ],
   "source": [
    "display(df_orders.head(4))"
   ]
  },
  {
   "cell_type": "code",
   "execution_count": 54,
   "metadata": {},
   "outputs": [
    {
     "data": {
      "text/plain": [
       "<matplotlib.collections.PathCollection at 0x1f2c88ef290>"
      ]
     },
     "execution_count": 54,
     "metadata": {},
     "output_type": "execute_result"
    },
    {
     "data": {
      "image/png": "[encoded data removed]",
      "text/plain": [
       "<Figure size 640x480 with 1 Axes>"
      ]
     },
     "metadata": {},
     "output_type": "display_data"
    }
   ],
   "source": [
    "ordersByUsers = df_orders.drop(['group', 'revenue', 'date'], axis=1).groupby('visitorId', as_index=False).agg({'transactionId': pd.Series.nunique})\n",
    "\n",
    "# Cambiar el nombre de las columnas para que sea 'userId' y 'orders'\n",
    "ordersByUsers.columns = ['userId', 'orders']\n",
    "\n",
    "# Ordenar los datos por el número de pedidos en orden descendente\n",
    "ordersByUsers_sorted = ordersByUsers.sort_values(by='orders', ascending=False)\n",
    "\n",
    "# el rango de números desde 0 hasta el número de observaciones en ordersByUsers\n",
    "x_values = pd.Series(range(0,len(ordersByUsers)))\n",
    "\n",
    "plt.scatter(x_values, ordersByUsers['orders'])"
   ]
  },
  {
   "cell_type": "markdown",
   "metadata": {},
   "source": [
    "**Conclusiones**<br> En el gráfico se observa que la mayoría de usuarios solo hace una transacción y algunos cuantos hacen hasta dos transacciones. Hay muy pocos usuarios que realizan mas de 3 transacciones. Se observa algunos valores atípicos."
   ]
  },
  {
   "cell_type": "markdown",
   "metadata": {},
   "source": [
    "#### Calcula los percentiles 95 y 99 del número de pedidos por usuario. Define el punto en el cual un punto de datos se convierte en una anomalía."
   ]
  },
  {
   "cell_type": "code",
   "execution_count": 57,
   "metadata": {},
   "outputs": [
    {
     "name": "stdout",
     "output_type": "stream",
     "text": [
      "[1. 2. 3.]\n"
     ]
    }
   ],
   "source": [
    "print(np.percentile(ordersByUsers['orders'], [90, 95, 99]))"
   ]
  },
  {
   "cell_type": "markdown",
   "metadata": {},
   "source": [
    "**Conclusiones**<br>La gran mayoría de los usuarios han realizado pocos pedidos. El 90% de los usuarios ha realizado 1 pedido, el 95% ha hecho 2 pedidos o menos, y el 99% ha hecho 4 pedidos o menos. Esto indica que la mayoría de los usuarios no está comprando con frecuencia.\n",
    "\n",
    "Entonces, cualquier usuario con más de 4 pedidos podría ser considerado como un outlier o anomalía en términos de comportamiento de compra, porque está significativamente fuera de la distribución de los demás usuarios. "
   ]
  },
  {
   "cell_type": "markdown",
   "metadata": {},
   "source": [
    "#### Traza un gráfico de dispersión de los precios de los pedidos. Haz conclusiones y conjeturas."
   ]
  },
  {
   "cell_type": "code",
   "execution_count": 60,
   "metadata": {},
   "outputs": [
    {
     "data": {
      "image/png": "[encoded data removed]",
      "text/plain": [
       "<Figure size 640x480 with 1 Axes>"
      ]
     },
     "metadata": {},
     "output_type": "display_data"
    }
   ],
   "source": [
    "# Crear el rango de valores para el eje X (de 0 hasta el número de filas en df_orders)\n",
    "x_values = pd.Series(range(0, len(df_orders)))\n",
    "\n",
    "# Trazar el gráfico de dispersión de los precios de los pedidos (columna 'revenue')\n",
    "plt.scatter(x_values, df_orders['revenue'])\n",
    "\n",
    "# Títulos y etiquetas\n",
    "plt.title(\"Gráfico de dispersión de los precios de los pedidos\")\n",
    "plt.xlabel(\"Índice de pedido\")\n",
    "plt.ylabel(\"Precio del pedido (revenue)\")\n",
    "\n",
    "# Mostrar el gráfico\n",
    "plt.show()\n"
   ]
  },
  {
   "cell_type": "markdown",
   "metadata": {},
   "source": [
    "#### Calcula los percentiles 95 y 99 de los precios de los pedidos. Define el punto en el cual un punto de datos se convierte en una anomalía."
   ]
  },
  {
   "cell_type": "code",
   "execution_count": 62,
   "metadata": {},
   "outputs": [
    {
     "name": "stdout",
     "output_type": "stream",
     "text": [
      "Percentil 95 de los precios de los pedidos: 425.75\n",
      "Percentil 99 de los precios de los pedidos: 830.3\n"
     ]
    }
   ],
   "source": [
    "# Calcular los percentiles 95 y 99 de los precios de los pedidos\n",
    "percentile_95 = np.percentile(df_orders['revenue'], 95)\n",
    "percentile_99 = np.percentile(df_orders['revenue'], 99)\n",
    "\n",
    "# Imprimir los resultados\n",
    "print(f\"Percentil 95 de los precios de los pedidos: {percentile_95}\")\n",
    "print(f\"Percentil 99 de los precios de los pedidos: {percentile_99}\")"
   ]
  },
  {
   "cell_type": "markdown",
   "metadata": {},
   "source": [
    "**Conclusiones**<br>El 95% de los pedidos están por debajo de 425.75.<br>El 99% de los pedidos están por debajo de 830.3.\n",
    "Esto sugiere que hay pedidos con precios altos (probablemente unos pocos pedidos con un precio mucho mayor que la mayoría) que están empujando el percentil 99 a un valor relativamente alto."
   ]
  },
  {
   "cell_type": "markdown",
   "metadata": {},
   "source": [
    "#### Encuentra la significancia estadística de la diferencia en la conversión entre los grupos utilizando los datos en bruto. "
   ]
  },
  {
   "cell_type": "code",
   "execution_count": 65,
   "metadata": {},
   "outputs": [
    {
     "name": "stdout",
     "output_type": "stream",
     "text": [
      "0.14572\n",
      "0.086\n"
     ]
    }
   ],
   "source": [
    "ordersByUsersA = df_orders[df_orders['group']=='A'].groupby('visitorId', as_index=False).agg({'transactionId' : pd.Series.nunique})\n",
    "ordersByUsersA.columns = ['userId', 'orders']\n",
    "# print(ordersByUsersA)\n",
    "ordersByUsersB = df_orders[df_orders['group']=='B'].groupby('visitorId', as_index=False).agg({'transactionId' : pd.Series.nunique})\n",
    "ordersByUsersB.columns = ['userId', 'orders']\n",
    "# print(ordersByUsersB)\n",
    "\n",
    "sampleA = pd.concat([ordersByUsersA['orders'],pd.Series(0, index=np.arange(df_visits[df_visits['group']=='A']['visits'].sum() - len(ordersByUsersA['orders'])), name='orders')],axis=0)\n",
    "\n",
    "sampleB = pd.concat([ordersByUsersB['orders'],pd.Series(0, index=np.arange(df_visits[df_visits['group']=='B']['visits'].sum() - len(ordersByUsersB['orders'])), name='orders')],axis=0)\n",
    "\n",
    "# Realizar el test de Mann-Whitney\n",
    "print('{0:.5f}'.format(stats.mannwhitneyu(sampleA, sampleB)[1]))\n",
    "# Calcular la diferencia relativa en las medias\n",
    "print('{0:.3f}'.format(sampleB.mean() / sampleA.mean() - 1))"
   ]
  },
  {
   "cell_type": "markdown",
   "metadata": {},
   "source": [
    "**Conclusiones**<br>**Prueba de Mann-Whitney (p = 0.14572):** Como el valor p es mayor que 0.05, no podemos rechazar la hipótesis nula, por lo tanto, no hay evidencia suficiente para afirmar que las distribuciones de conversión en los grupos A y B son diferentes. Los resultados entre los dos grupos podrían ser similares desde el punto de vista estadístico.\n",
    "\n",
    "**Diferencia relativa**<br>Aunque la diferencia relativa de medias muestra que el grupo B tiene un promedio de conversión ligeramente mayor que el grupo A (8.6%), la prueba de Mann-Whitney indica que no hay evidencia estadística suficiente para afirmar que las conversiones entre los dos grupos son diferentes."
   ]
  },
  {
   "cell_type": "markdown",
   "metadata": {},
   "source": [
    "#### Encuentra la significancia estadística de la diferencia en el tamaño promedio de pedido entre los grupos utilizando los datos en bruto. "
   ]
  },
  {
   "cell_type": "code",
   "execution_count": 68,
   "metadata": {},
   "outputs": [
    {
     "name": "stdout",
     "output_type": "stream",
     "text": [
      "0.788\n",
      "0.249\n"
     ]
    }
   ],
   "source": [
    "print('{0:.3f}'.format(stats.mannwhitneyu(df_orders[df_orders['group']=='A']['revenue'], df_orders[df_orders['group']=='B']['revenue'])[1])) \n",
    "# \n",
    "print('{0:.3f}'.format(df_orders[df_orders['group']=='B']['revenue'].mean()/df_orders[df_orders['group']=='A']['revenue'].mean()-1))                    "
   ]
  },
  {
   "cell_type": "markdown",
   "metadata": {},
   "source": [
    "**Conclusionees**<br>**P-valor de la prueba de Mann-Whitney (0.788):** El valor 0.788 es alto (mayor que 0.05). Esto indica que no hay evidencia suficiente para rechazar la hipótesis nula, por lo tanto, no se puede concluir que las distribuciones de ingresos entre los dos grupos (A y B) sean significativamente diferentes.Es decir, las distribuciones de ingresos en ambos grupos son similares desde el punto de vista estadístico.<br>**Diferencia relativa en las medias (0.249):** Los ingresos medios del grupo B son aproximadamente un 24.9% más altos que los ingresos medios del grupo A.Es decir, si consideramos las medias de ingresos, el grupo B está generando un 24.9% más de ingresos en comparación con el grupo A.Sin embargo, debido a que el p-valor es alto (0.788), esta diferencia de 24.9% no se considera estadísticamente significativa."
   ]
  },
  {
   "cell_type": "markdown",
   "metadata": {},
   "source": [
    "#### Encuentra la significancia estadística de la diferencia en la conversión entre los grupos utilizando los datos filtrados. "
   ]
  },
  {
   "cell_type": "markdown",
   "metadata": {},
   "source": [
    "Eliminar anomalías de los datos"
   ]
  },
  {
   "cell_type": "code",
   "execution_count": 72,
   "metadata": {},
   "outputs": [
    {
     "name": "stdout",
     "output_type": "stream",
     "text": [
      "El número de elementos no nulos en abnormalUsers es: 31\n"
     ]
    }
   ],
   "source": [
    "usersWithManyOrders = pd.concat(\n",
    "    [\n",
    "        ordersByUsersA[ordersByUsersA['orders'] > 2]['userId'],\n",
    "        ordersByUsersB[ordersByUsersB['orders'] > 2]['userId'],\n",
    "    ],\n",
    "    axis=0,\n",
    ")\n",
    "usersWithExpensiveOrders = df_orders[df_orders['revenue'] > percentile_99]['visitorId']\n",
    "abnormalUsers = (\n",
    "    pd.concat([usersWithManyOrders, usersWithExpensiveOrders], axis=0)\n",
    "    .drop_duplicates()\n",
    "    .sort_values()\n",
    ")\n",
    "# print(abnormalUsers)\n",
    "num_elements = abnormalUsers.count()\n",
    "print(f\"El número de elementos no nulos en abnormalUsers es: {num_elements}\")"
   ]
  },
  {
   "cell_type": "code",
   "execution_count": 73,
   "metadata": {},
   "outputs": [
    {
     "name": "stdout",
     "output_type": "stream",
     "text": [
      "0.10108\n",
      "0.114\n"
     ]
    }
   ],
   "source": [
    "sampleAFiltered = pd.concat(\n",
    "    [\n",
    "        ordersByUsersA[\n",
    "            np.logical_not(ordersByUsersA['userId'].isin(abnormalUsers))\n",
    "        ]['orders'],\n",
    "        pd.Series(\n",
    "            0,\n",
    "            index=np.arange(\n",
    "                df_visits[df_visits['group'] == 'A']['visits'].sum()\n",
    "                - len(ordersByUsersA['orders'])\n",
    "            ),\n",
    "            name='orders',\n",
    "        ),\n",
    "    ],\n",
    "    axis=0,\n",
    ")\n",
    "\n",
    "sampleBFiltered = pd.concat(\n",
    "    [\n",
    "        ordersByUsersB[\n",
    "            np.logical_not(ordersByUsersB['userId'].isin(abnormalUsers))\n",
    "        ]['orders'],\n",
    "        pd.Series(\n",
    "            0,\n",
    "            index=np.arange(\n",
    "                df_visits[df_visits['group'] == 'B']['visits'].sum()\n",
    "                - len(ordersByUsersB['orders'])\n",
    "            ),\n",
    "            name='orders',\n",
    "        ),\n",
    "    ],\n",
    "    axis=0,\n",
    ")\n",
    "\n",
    "print(\n",
    "    \"{0:.5f}\".format(stats.mannwhitneyu(sampleAFiltered, sampleBFiltered)[1])\n",
    ")\n",
    "print(\"{0:.3f}\".format(sampleBFiltered.mean() / sampleAFiltered.mean() - 1))\n"
   ]
  },
  {
   "cell_type": "markdown",
   "metadata": {},
   "source": [
    "**Conclusión**<br>**P-valor de la prueba de Mann-Whitney (0.10108):** El p-valor de 0.10108 es mayor que 0.05, lo que sugiere que no hay evidencia suficiente para rechazar la hipótesis nula.Por lo tanto, se considera que las distribuciones de la conversión en los grupos A y B son iguales.<br>**Diferencia relativa en las medias (0.114):** La diferencia relativa de 0.114 significa que el grupo B tiene una tasa de conversión aproximadamente un 11.4% mayor que el grupo A.\n",
    "Aunque este es un valor positivo, el p-valor alto (0.10108) nos indica que esta diferencia no es estadísticamente significativa.\n",
    "Es decir, aunque en términos absolutos el grupo B parece tener una conversión ligeramente superior, la diferencia no es suficientemente robusta desde un punto de vista estadístico para afirmar que esta diferencia es consistente y no se debe a la variabilidad aleatoria."
   ]
  },
  {
   "cell_type": "markdown",
   "metadata": {},
   "source": [
    "#### Encuentra la significancia estadística de la diferencia en el tamaño promedio de pedido entre los grupos utilizando los datos filtrados."
   ]
  },
  {
   "cell_type": "code",
   "execution_count": 76,
   "metadata": {},
   "outputs": [
    {
     "name": "stdout",
     "output_type": "stream",
     "text": [
      "0.876\n",
      "-0.025\n"
     ]
    }
   ],
   "source": [
    "filtered_revenue_A = df_orders[\n",
    "    np.logical_and(\n",
    "        df_orders['group'] == 'A',  # Condición 1: grupo A\n",
    "        np.logical_not(df_orders['visitorId'].isin(abnormalUsers)),  # Condición 2: visitorId no en abnormalUsers\n",
    "    )\n",
    "]['revenue']\n",
    "filtered_revenue_B = df_orders[\n",
    "    np.logical_and(\n",
    "        df_orders['group'] == 'B',  # Condición 1: grupo A\n",
    "        np.logical_not(df_orders['visitorId'].isin(abnormalUsers)),  # Condición 2: visitorId no en abnormalUsers\n",
    "    )\n",
    "]['revenue']\n",
    "print(\n",
    "    \"{0:.3f}\".format(\n",
    "        stats.mannwhitneyu(\n",
    "            filtered_revenue_A,\n",
    "            filtered_revenue_B,\n",
    "        )[1]\n",
    "    )\n",
    ")\n",
    "print(\n",
    "    \"{0:.3f}\".format(\n",
    "        filtered_revenue_B.mean()\n",
    "        / filtered_revenue_A.mean()\n",
    "        - 1\n",
    "    )\n",
    ")\n"
   ]
  },
  {
   "cell_type": "markdown",
   "metadata": {},
   "source": [
    "**Conclusión**<br>**P-valor de la prueba de Mann-Whitney (0.876):** El p-valor de la prueba de Mann-Whitney es 0.876, que es mucho mayor que 0.05. Esto indica que no hay evidencia suficiente para rechazar la hipótesis nula.Por lo tanto, no podemos afirmar que haya una diferencia estadísticamente significativa en el tamaño de los pedidos entre los dos grupos, después de eliminar los usuarios anómalos.<br>**Diferencia relativa en las medias (-0.025):** La diferencia relativa en las medias es -0.025, lo que significa que el tamaño promedio del pedido en el grupo B es un 2.5% menor que en el grupo A. Aunque la diferencia es negativa, el p-valor alto (0.876) sugiere que esta diferencia no es significativa desde un punto de vista estadístico."
   ]
  },
  {
   "cell_type": "markdown",
   "metadata": {},
   "source": [
    "###💡 Recomendaciones"
   ]
  },
  {
   "cell_type": "markdown",
   "metadata": {},
   "source": [
    "* Parar la prueba y concluir que no hay diferencia entre los grupos.\n",
    "  \n",
    "Razonamiento:\n",
    "\n",
    "A pesar de que hay algunas diferencias numéricas (por ejemplo, un 11.4% más de conversión para el grupo B), estas no son estadísticamente significativas (p-valor > 0.05). Además, no se encontró ninguna diferencia significativa en el tamaño promedio de los pedidos.\n",
    "Dado que no hay evidencia suficiente para afirmar que uno de los grupos es claramente superior al otro en términos de conversión o tamaño de pedido, concluir que no hay diferencia significativa parece ser lo más apropiado."
   ]
  },
  {
   "cell_type": "markdown",
   "metadata": {},
   "source": [
    "# Comentario general "
   ]
  },
  {
   "cell_type": "markdown",
   "metadata": {},
   "source": [
    "<div class=\"alert alert-block alert-success\">  \n",
    "<a class=\"tocSkip\"></a>  \n",
    "    \n",
    "\n",
    "- **Limpieza y filtrado de datos:** Eliminación de anomalías, garantizando un análisis más preciso.  \n",
    "- **Uso adecuado de pruebas estadísticas:** Implementación de pruebas de Mann-Whitney de manera correcta para evaluar la significancia de las diferencias entre grupos.  \n",
    "- **Visualización y análisis:** Representación de los datos de manera efectiva mediante gráficos de dispersión y series de tiempo, permitiendo detectar patrones y tendencias en la conversión y el tamaño de los pedidos.  \n",
    "- **Interpretación clara de resultados:** Las conclusiones están bien estructuradas y justificadas con base en la evidencia estadística.  \n",
    " \n",
    "</div>"
   ]
  }
 ],
 "metadata": {
  "ExecuteTimeLog": [
   {
    "duration": 164,
    "start_time": "2025-03-10T20:19:49.104Z"
   },
   {
    "duration": 382,
    "start_time": "2025-03-10T20:20:47.476Z"
   },
   {
    "duration": 9,
    "start_time": "2025-03-10T20:20:50.020Z"
   },
   {
    "duration": 35,
    "start_time": "2025-03-10T20:21:07.388Z"
   },
   {
    "duration": 5,
    "start_time": "2025-03-10T20:21:20.359Z"
   },
   {
    "duration": 4,
    "start_time": "2025-03-10T20:22:41.908Z"
   },
   {
    "duration": 8,
    "start_time": "2025-03-10T20:23:09.158Z"
   },
   {
    "duration": 6,
    "start_time": "2025-03-10T20:24:08.595Z"
   },
   {
    "duration": 300,
    "start_time": "2025-03-10T20:24:20.173Z"
   },
   {
    "duration": 6,
    "start_time": "2025-03-10T20:24:20.475Z"
   },
   {
    "duration": 10,
    "start_time": "2025-03-10T20:24:20.482Z"
   },
   {
    "duration": 187,
    "start_time": "2025-03-10T20:25:21.770Z"
   },
   {
    "duration": 12,
    "start_time": "2025-03-10T20:25:33.898Z"
   },
   {
    "duration": 16,
    "start_time": "2025-03-10T20:26:58.804Z"
   },
   {
    "duration": 13,
    "start_time": "2025-03-10T20:27:17.696Z"
   },
   {
    "duration": 19,
    "start_time": "2025-03-10T20:28:02.474Z"
   },
   {
    "duration": 16,
    "start_time": "2025-03-10T20:28:18.566Z"
   },
   {
    "duration": 11,
    "start_time": "2025-03-10T20:28:23.715Z"
   },
   {
    "duration": 14,
    "start_time": "2025-03-10T20:28:52.233Z"
   },
   {
    "duration": 13,
    "start_time": "2025-03-10T20:33:45.316Z"
   },
   {
    "duration": 12,
    "start_time": "2025-03-10T20:34:14.480Z"
   },
   {
    "duration": 5,
    "start_time": "2025-03-10T20:41:58.747Z"
   },
   {
    "duration": 4,
    "start_time": "2025-03-10T20:42:30.477Z"
   },
   {
    "duration": 4,
    "start_time": "2025-03-10T20:43:16.706Z"
   },
   {
    "duration": 9,
    "start_time": "2025-03-10T20:43:29.274Z"
   },
   {
    "duration": 7,
    "start_time": "2025-03-10T20:44:10.020Z"
   },
   {
    "duration": 8,
    "start_time": "2025-03-10T20:48:22.832Z"
   },
   {
    "duration": 10,
    "start_time": "2025-03-10T20:48:58.517Z"
   },
   {
    "duration": 9,
    "start_time": "2025-03-10T20:49:14.590Z"
   },
   {
    "duration": 3,
    "start_time": "2025-03-10T20:50:01.874Z"
   },
   {
    "duration": 8,
    "start_time": "2025-03-10T20:50:52.114Z"
   },
   {
    "duration": 7,
    "start_time": "2025-03-10T20:51:02.430Z"
   },
   {
    "duration": 7,
    "start_time": "2025-03-10T20:51:33.672Z"
   },
   {
    "duration": 9,
    "start_time": "2025-03-10T20:51:41.797Z"
   },
   {
    "duration": 9,
    "start_time": "2025-03-10T20:53:03.742Z"
   },
   {
    "duration": 7,
    "start_time": "2025-03-10T20:53:39.670Z"
   },
   {
    "duration": 358,
    "start_time": "2025-03-10T20:53:49.218Z"
   },
   {
    "duration": 11,
    "start_time": "2025-03-10T20:53:49.579Z"
   },
   {
    "duration": 23,
    "start_time": "2025-03-10T20:53:49.592Z"
   },
   {
    "duration": 21,
    "start_time": "2025-03-10T20:53:49.618Z"
   },
   {
    "duration": 15,
    "start_time": "2025-03-10T20:53:49.644Z"
   },
   {
    "duration": 14,
    "start_time": "2025-03-10T20:53:49.662Z"
   },
   {
    "duration": 10,
    "start_time": "2025-03-10T20:53:49.678Z"
   },
   {
    "duration": 7,
    "start_time": "2025-03-10T20:53:49.691Z"
   },
   {
    "duration": 9,
    "start_time": "2025-03-10T20:57:54.519Z"
   },
   {
    "duration": 397,
    "start_time": "2025-03-10T20:58:37.389Z"
   },
   {
    "duration": 9,
    "start_time": "2025-03-10T20:58:37.793Z"
   },
   {
    "duration": 25,
    "start_time": "2025-03-10T20:58:37.803Z"
   },
   {
    "duration": 18,
    "start_time": "2025-03-10T20:58:37.835Z"
   },
   {
    "duration": 14,
    "start_time": "2025-03-10T20:58:37.856Z"
   },
   {
    "duration": 12,
    "start_time": "2025-03-10T20:58:37.873Z"
   },
   {
    "duration": 12,
    "start_time": "2025-03-10T20:58:37.887Z"
   },
   {
    "duration": 11,
    "start_time": "2025-03-10T20:58:37.901Z"
   },
   {
    "duration": 23,
    "start_time": "2025-03-10T20:58:37.915Z"
   },
   {
    "duration": 10,
    "start_time": "2025-03-10T21:01:51.067Z"
   },
   {
    "duration": 198,
    "start_time": "2025-03-10T21:12:44.574Z"
   },
   {
    "duration": 5,
    "start_time": "2025-03-10T21:13:21.122Z"
   },
   {
    "duration": 9,
    "start_time": "2025-03-10T22:24:26.208Z"
   },
   {
    "duration": 3,
    "start_time": "2025-03-10T22:28:09.843Z"
   },
   {
    "duration": 312,
    "start_time": "2025-03-10T22:32:07.471Z"
   },
   {
    "duration": 7,
    "start_time": "2025-03-10T22:32:07.786Z"
   },
   {
    "duration": 16,
    "start_time": "2025-03-10T22:32:07.794Z"
   },
   {
    "duration": 23,
    "start_time": "2025-03-10T22:32:07.812Z"
   },
   {
    "duration": 15,
    "start_time": "2025-03-10T22:32:07.837Z"
   },
   {
    "duration": 12,
    "start_time": "2025-03-10T22:32:07.854Z"
   },
   {
    "duration": 9,
    "start_time": "2025-03-10T22:32:07.867Z"
   },
   {
    "duration": 9,
    "start_time": "2025-03-10T22:32:07.877Z"
   },
   {
    "duration": 7,
    "start_time": "2025-03-10T22:32:07.888Z"
   },
   {
    "duration": 7,
    "start_time": "2025-03-10T22:32:07.931Z"
   },
   {
    "duration": 4,
    "start_time": "2025-03-10T22:32:07.940Z"
   },
   {
    "duration": 437,
    "start_time": "2025-03-10T22:32:07.946Z"
   },
   {
    "duration": 290,
    "start_time": "2025-03-10T22:33:17.891Z"
   },
   {
    "duration": 5,
    "start_time": "2025-03-10T22:33:18.183Z"
   },
   {
    "duration": 16,
    "start_time": "2025-03-10T22:33:18.190Z"
   },
   {
    "duration": 26,
    "start_time": "2025-03-10T22:33:18.208Z"
   },
   {
    "duration": 14,
    "start_time": "2025-03-10T22:33:18.237Z"
   },
   {
    "duration": 11,
    "start_time": "2025-03-10T22:33:18.253Z"
   },
   {
    "duration": 9,
    "start_time": "2025-03-10T22:33:18.266Z"
   },
   {
    "duration": 9,
    "start_time": "2025-03-10T22:33:18.277Z"
   },
   {
    "duration": 8,
    "start_time": "2025-03-10T22:33:18.287Z"
   },
   {
    "duration": 39,
    "start_time": "2025-03-10T22:33:18.296Z"
   },
   {
    "duration": 4,
    "start_time": "2025-03-10T22:33:18.337Z"
   },
   {
    "duration": 423,
    "start_time": "2025-03-10T22:33:18.342Z"
   },
   {
    "duration": 4,
    "start_time": "2025-03-10T22:35:36.272Z"
   },
   {
    "duration": 9,
    "start_time": "2025-03-10T22:36:18.870Z"
   },
   {
    "duration": 44,
    "start_time": "2025-03-10T22:36:36.611Z"
   },
   {
    "duration": 31,
    "start_time": "2025-03-10T22:36:47.566Z"
   },
   {
    "duration": 11,
    "start_time": "2025-03-10T22:37:01.365Z"
   },
   {
    "duration": 290,
    "start_time": "2025-03-10T22:37:12.206Z"
   },
   {
    "duration": 8,
    "start_time": "2025-03-10T22:37:12.499Z"
   },
   {
    "duration": 28,
    "start_time": "2025-03-10T22:37:12.509Z"
   },
   {
    "duration": 8,
    "start_time": "2025-03-10T22:37:12.539Z"
   },
   {
    "duration": 12,
    "start_time": "2025-03-10T22:37:12.550Z"
   },
   {
    "duration": 11,
    "start_time": "2025-03-10T22:37:12.564Z"
   },
   {
    "duration": 9,
    "start_time": "2025-03-10T22:37:12.577Z"
   },
   {
    "duration": 9,
    "start_time": "2025-03-10T22:37:12.587Z"
   },
   {
    "duration": 40,
    "start_time": "2025-03-10T22:37:12.597Z"
   },
   {
    "duration": 7,
    "start_time": "2025-03-10T22:37:12.638Z"
   },
   {
    "duration": 4,
    "start_time": "2025-03-10T22:37:12.647Z"
   },
   {
    "duration": 11,
    "start_time": "2025-03-10T22:37:12.652Z"
   },
   {
    "duration": 17,
    "start_time": "2025-03-10T22:37:12.664Z"
   },
   {
    "duration": 303,
    "start_time": "2025-03-10T22:40:26.243Z"
   },
   {
    "duration": 280,
    "start_time": "2025-03-10T22:41:18.693Z"
   },
   {
    "duration": 6,
    "start_time": "2025-03-10T22:41:18.975Z"
   },
   {
    "duration": 16,
    "start_time": "2025-03-10T22:41:18.982Z"
   },
   {
    "duration": 7,
    "start_time": "2025-03-10T22:41:19.000Z"
   },
   {
    "duration": 25,
    "start_time": "2025-03-10T22:41:19.009Z"
   },
   {
    "duration": 11,
    "start_time": "2025-03-10T22:41:19.036Z"
   },
   {
    "duration": 9,
    "start_time": "2025-03-10T22:41:19.048Z"
   },
   {
    "duration": 9,
    "start_time": "2025-03-10T22:41:19.058Z"
   },
   {
    "duration": 9,
    "start_time": "2025-03-10T22:41:19.068Z"
   },
   {
    "duration": 4,
    "start_time": "2025-03-10T22:41:19.080Z"
   },
   {
    "duration": 3,
    "start_time": "2025-03-10T22:41:19.086Z"
   },
   {
    "duration": 49,
    "start_time": "2025-03-10T22:41:19.091Z"
   },
   {
    "duration": 9,
    "start_time": "2025-03-10T22:41:19.142Z"
   },
   {
    "duration": 337,
    "start_time": "2025-03-10T22:42:48.562Z"
   },
   {
    "duration": 313,
    "start_time": "2025-03-10T22:42:59.764Z"
   },
   {
    "duration": 6,
    "start_time": "2025-03-10T22:43:00.079Z"
   },
   {
    "duration": 15,
    "start_time": "2025-03-10T22:43:00.087Z"
   },
   {
    "duration": 9,
    "start_time": "2025-03-10T22:43:00.103Z"
   },
   {
    "duration": 14,
    "start_time": "2025-03-10T22:43:00.130Z"
   },
   {
    "duration": 11,
    "start_time": "2025-03-10T22:43:00.146Z"
   },
   {
    "duration": 10,
    "start_time": "2025-03-10T22:43:00.159Z"
   },
   {
    "duration": 9,
    "start_time": "2025-03-10T22:43:00.171Z"
   },
   {
    "duration": 7,
    "start_time": "2025-03-10T22:43:00.182Z"
   },
   {
    "duration": 5,
    "start_time": "2025-03-10T22:43:00.191Z"
   },
   {
    "duration": 3,
    "start_time": "2025-03-10T22:43:00.232Z"
   },
   {
    "duration": 10,
    "start_time": "2025-03-10T22:43:00.237Z"
   },
   {
    "duration": 9,
    "start_time": "2025-03-10T22:43:39.119Z"
   },
   {
    "duration": 13,
    "start_time": "2025-03-10T22:43:47.292Z"
   },
   {
    "duration": 7,
    "start_time": "2025-03-10T22:49:56.597Z"
   },
   {
    "duration": 12,
    "start_time": "2025-03-10T22:50:09.847Z"
   },
   {
    "duration": 12,
    "start_time": "2025-03-10T22:55:41.981Z"
   },
   {
    "duration": 11,
    "start_time": "2025-03-10T23:08:47.980Z"
   },
   {
    "duration": 461,
    "start_time": "2025-03-10T23:12:20.771Z"
   },
   {
    "duration": 284,
    "start_time": "2025-03-10T23:12:28.116Z"
   },
   {
    "duration": 7,
    "start_time": "2025-03-10T23:12:28.402Z"
   },
   {
    "duration": 25,
    "start_time": "2025-03-10T23:12:28.410Z"
   },
   {
    "duration": 10,
    "start_time": "2025-03-10T23:12:28.437Z"
   },
   {
    "duration": 12,
    "start_time": "2025-03-10T23:12:28.448Z"
   },
   {
    "duration": 11,
    "start_time": "2025-03-10T23:12:28.461Z"
   },
   {
    "duration": 9,
    "start_time": "2025-03-10T23:12:28.473Z"
   },
   {
    "duration": 9,
    "start_time": "2025-03-10T23:12:28.484Z"
   },
   {
    "duration": 37,
    "start_time": "2025-03-10T23:12:28.495Z"
   },
   {
    "duration": 5,
    "start_time": "2025-03-10T23:12:28.535Z"
   },
   {
    "duration": 3,
    "start_time": "2025-03-10T23:12:28.542Z"
   },
   {
    "duration": 10,
    "start_time": "2025-03-10T23:12:28.547Z"
   },
   {
    "duration": 558,
    "start_time": "2025-03-10T23:12:28.558Z"
   },
   {
    "duration": 0,
    "start_time": "2025-03-10T23:12:29.118Z"
   },
   {
    "duration": 288,
    "start_time": "2025-03-10T23:12:58.385Z"
   },
   {
    "duration": 5,
    "start_time": "2025-03-10T23:12:58.676Z"
   },
   {
    "duration": 15,
    "start_time": "2025-03-10T23:12:58.682Z"
   },
   {
    "duration": 7,
    "start_time": "2025-03-10T23:12:58.699Z"
   },
   {
    "duration": 27,
    "start_time": "2025-03-10T23:12:58.709Z"
   },
   {
    "duration": 12,
    "start_time": "2025-03-10T23:12:58.738Z"
   },
   {
    "duration": 8,
    "start_time": "2025-03-10T23:12:58.752Z"
   },
   {
    "duration": 10,
    "start_time": "2025-03-10T23:12:58.762Z"
   },
   {
    "duration": 8,
    "start_time": "2025-03-10T23:12:58.773Z"
   },
   {
    "duration": 6,
    "start_time": "2025-03-10T23:12:58.783Z"
   },
   {
    "duration": 4,
    "start_time": "2025-03-10T23:12:58.790Z"
   },
   {
    "duration": 9,
    "start_time": "2025-03-10T23:12:58.832Z"
   },
   {
    "duration": 575,
    "start_time": "2025-03-10T23:12:58.843Z"
   },
   {
    "duration": 0,
    "start_time": "2025-03-10T23:12:59.419Z"
   },
   {
    "duration": 146,
    "start_time": "2025-03-10T23:14:38.559Z"
   },
   {
    "duration": 12,
    "start_time": "2025-03-10T23:15:12.158Z"
   },
   {
    "duration": 11,
    "start_time": "2025-03-10T23:16:07.263Z"
   },
   {
    "duration": 150,
    "start_time": "2025-03-10T23:16:52.016Z"
   },
   {
    "duration": 10,
    "start_time": "2025-03-10T23:19:06.452Z"
   },
   {
    "duration": 10,
    "start_time": "2025-03-10T23:21:13.839Z"
   },
   {
    "duration": 148,
    "start_time": "2025-03-10T23:25:47.475Z"
   },
   {
    "duration": 5,
    "start_time": "2025-03-10T23:27:20.615Z"
   },
   {
    "duration": 9,
    "start_time": "2025-03-10T23:27:49.477Z"
   },
   {
    "duration": 8,
    "start_time": "2025-03-10T23:29:08.587Z"
   },
   {
    "duration": 116,
    "start_time": "2025-03-10T23:29:53.071Z"
   },
   {
    "duration": 9,
    "start_time": "2025-03-10T23:30:04.131Z"
   },
   {
    "duration": 11,
    "start_time": "2025-03-10T23:31:30.859Z"
   },
   {
    "duration": 9,
    "start_time": "2025-03-10T23:31:39.118Z"
   },
   {
    "duration": 11,
    "start_time": "2025-03-10T23:31:48.717Z"
   },
   {
    "duration": 281,
    "start_time": "2025-03-10T23:34:48.792Z"
   },
   {
    "duration": 36,
    "start_time": "2025-03-10T23:35:00.227Z"
   },
   {
    "duration": 6,
    "start_time": "2025-03-10T23:35:31.468Z"
   },
   {
    "duration": 4,
    "start_time": "2025-03-10T23:35:45.459Z"
   },
   {
    "duration": 17,
    "start_time": "2025-03-10T23:39:31.681Z"
   },
   {
    "duration": 2198,
    "start_time": "2025-03-10T23:39:56.832Z"
   },
   {
    "duration": 7,
    "start_time": "2025-03-10T23:39:59.033Z"
   },
   {
    "duration": 15,
    "start_time": "2025-03-10T23:39:59.042Z"
   },
   {
    "duration": 9,
    "start_time": "2025-03-10T23:39:59.059Z"
   },
   {
    "duration": 13,
    "start_time": "2025-03-10T23:39:59.070Z"
   },
   {
    "duration": 13,
    "start_time": "2025-03-10T23:39:59.084Z"
   },
   {
    "duration": 37,
    "start_time": "2025-03-10T23:39:59.098Z"
   },
   {
    "duration": 9,
    "start_time": "2025-03-10T23:39:59.137Z"
   },
   {
    "duration": 8,
    "start_time": "2025-03-10T23:39:59.147Z"
   },
   {
    "duration": 7,
    "start_time": "2025-03-10T23:39:59.157Z"
   },
   {
    "duration": 3,
    "start_time": "2025-03-10T23:39:59.166Z"
   },
   {
    "duration": 11,
    "start_time": "2025-03-10T23:39:59.171Z"
   },
   {
    "duration": 173,
    "start_time": "2025-03-10T23:39:59.183Z"
   },
   {
    "duration": 148,
    "start_time": "2025-03-10T23:39:59.360Z"
   },
   {
    "duration": 159,
    "start_time": "2025-03-10T23:41:38.849Z"
   },
   {
    "duration": 199,
    "start_time": "2025-03-10T23:42:36.417Z"
   },
   {
    "duration": 205,
    "start_time": "2025-03-10T23:43:31.429Z"
   },
   {
    "duration": 10,
    "start_time": "2025-03-10T23:47:44.016Z"
   },
   {
    "duration": 6,
    "start_time": "2025-03-10T23:47:53.971Z"
   },
   {
    "duration": 6,
    "start_time": "2025-03-10T23:48:47.582Z"
   },
   {
    "duration": 440,
    "start_time": "2025-03-10T23:55:35.674Z"
   },
   {
    "duration": 46,
    "start_time": "2025-03-10T23:55:36.117Z"
   },
   {
    "duration": 14,
    "start_time": "2025-03-10T23:55:36.165Z"
   },
   {
    "duration": 9,
    "start_time": "2025-03-10T23:55:36.181Z"
   },
   {
    "duration": 13,
    "start_time": "2025-03-10T23:55:36.192Z"
   },
   {
    "duration": 33,
    "start_time": "2025-03-10T23:55:36.206Z"
   },
   {
    "duration": 9,
    "start_time": "2025-03-10T23:55:36.240Z"
   },
   {
    "duration": 9,
    "start_time": "2025-03-10T23:55:36.250Z"
   },
   {
    "duration": 8,
    "start_time": "2025-03-10T23:55:36.260Z"
   },
   {
    "duration": 6,
    "start_time": "2025-03-10T23:55:36.270Z"
   },
   {
    "duration": 3,
    "start_time": "2025-03-10T23:55:36.278Z"
   },
   {
    "duration": 11,
    "start_time": "2025-03-10T23:55:36.282Z"
   },
   {
    "duration": 167,
    "start_time": "2025-03-10T23:55:36.331Z"
   },
   {
    "duration": 183,
    "start_time": "2025-03-10T23:55:36.501Z"
   },
   {
    "duration": 6,
    "start_time": "2025-03-10T23:55:36.686Z"
   },
   {
    "duration": 4,
    "start_time": "2025-03-10T23:57:25.535Z"
   },
   {
    "duration": 4,
    "start_time": "2025-03-10T23:57:40.726Z"
   },
   {
    "duration": 4,
    "start_time": "2025-03-10T23:57:48.285Z"
   },
   {
    "duration": 4,
    "start_time": "2025-03-10T23:57:52.480Z"
   },
   {
    "duration": 224,
    "start_time": "2025-03-10T23:57:57.139Z"
   },
   {
    "duration": 4,
    "start_time": "2025-03-10T23:58:01.290Z"
   },
   {
    "duration": 4,
    "start_time": "2025-03-10T23:58:14.567Z"
   },
   {
    "duration": 4,
    "start_time": "2025-03-10T23:58:52.357Z"
   },
   {
    "duration": 5,
    "start_time": "2025-03-10T23:58:57.951Z"
   },
   {
    "duration": 400,
    "start_time": "2025-03-11T00:02:28.343Z"
   },
   {
    "duration": 139,
    "start_time": "2025-03-11T00:02:49.126Z"
   },
   {
    "duration": 195,
    "start_time": "2025-03-11T00:04:06.060Z"
   },
   {
    "duration": 9,
    "start_time": "2025-03-11T00:11:17.304Z"
   },
   {
    "duration": 10,
    "start_time": "2025-03-11T00:11:24.642Z"
   },
   {
    "duration": 13,
    "start_time": "2025-03-11T00:11:30.129Z"
   },
   {
    "duration": 8,
    "start_time": "2025-03-11T00:11:47.132Z"
   },
   {
    "duration": 240,
    "start_time": "2025-03-11T00:14:39.018Z"
   },
   {
    "duration": 231,
    "start_time": "2025-03-11T00:15:12.110Z"
   },
   {
    "duration": 229,
    "start_time": "2025-03-11T00:15:41.988Z"
   },
   {
    "duration": 8,
    "start_time": "2025-03-11T00:21:40.703Z"
   },
   {
    "duration": 4,
    "start_time": "2025-03-11T00:22:08.749Z"
   },
   {
    "duration": 5,
    "start_time": "2025-03-11T00:23:12.251Z"
   },
   {
    "duration": 9,
    "start_time": "2025-03-11T00:23:23.432Z"
   },
   {
    "duration": 150,
    "start_time": "2025-03-11T00:27:45.112Z"
   },
   {
    "duration": 403,
    "start_time": "2025-03-11T00:27:56.815Z"
   },
   {
    "duration": 50,
    "start_time": "2025-03-11T00:27:57.221Z"
   },
   {
    "duration": 15,
    "start_time": "2025-03-11T00:27:57.273Z"
   },
   {
    "duration": 9,
    "start_time": "2025-03-11T00:27:57.290Z"
   },
   {
    "duration": 30,
    "start_time": "2025-03-11T00:27:57.301Z"
   },
   {
    "duration": 11,
    "start_time": "2025-03-11T00:27:57.333Z"
   },
   {
    "duration": 11,
    "start_time": "2025-03-11T00:27:57.346Z"
   },
   {
    "duration": 10,
    "start_time": "2025-03-11T00:27:57.359Z"
   },
   {
    "duration": 18,
    "start_time": "2025-03-11T00:27:57.371Z"
   },
   {
    "duration": 7,
    "start_time": "2025-03-11T00:27:57.390Z"
   },
   {
    "duration": 4,
    "start_time": "2025-03-11T00:27:57.399Z"
   },
   {
    "duration": 12,
    "start_time": "2025-03-11T00:27:57.430Z"
   },
   {
    "duration": 221,
    "start_time": "2025-03-11T00:27:57.444Z"
   },
   {
    "duration": 190,
    "start_time": "2025-03-11T00:27:57.668Z"
   },
   {
    "duration": 7,
    "start_time": "2025-03-11T00:27:57.861Z"
   },
   {
    "duration": 234,
    "start_time": "2025-03-11T00:27:57.870Z"
   },
   {
    "duration": 230,
    "start_time": "2025-03-11T00:27:58.105Z"
   },
   {
    "duration": 3,
    "start_time": "2025-03-11T00:27:58.337Z"
   },
   {
    "duration": 5,
    "start_time": "2025-03-11T00:27:58.341Z"
   },
   {
    "duration": 479,
    "start_time": "2025-03-11T00:27:58.347Z"
   },
   {
    "duration": 12,
    "start_time": "2025-03-11T00:28:08.216Z"
   },
   {
    "duration": 40,
    "start_time": "2025-03-11T00:28:20.187Z"
   },
   {
    "duration": 41,
    "start_time": "2025-03-11T00:28:22.747Z"
   },
   {
    "duration": 90,
    "start_time": "2025-03-11T00:28:54.788Z"
   },
   {
    "duration": 4,
    "start_time": "2025-03-11T00:30:06.968Z"
   },
   {
    "duration": 4,
    "start_time": "2025-03-11T00:30:16.963Z"
   },
   {
    "duration": 4,
    "start_time": "2025-03-11T00:30:21.935Z"
   },
   {
    "duration": 4,
    "start_time": "2025-03-11T00:30:28.056Z"
   },
   {
    "duration": 9,
    "start_time": "2025-03-11T00:30:49.492Z"
   },
   {
    "duration": 11,
    "start_time": "2025-03-11T00:33:32.310Z"
   },
   {
    "duration": 14,
    "start_time": "2025-03-11T00:33:53.478Z"
   },
   {
    "duration": 91,
    "start_time": "2025-03-11T00:35:11.804Z"
   },
   {
    "duration": 440,
    "start_time": "2025-03-11T00:36:34.626Z"
   },
   {
    "duration": 46,
    "start_time": "2025-03-11T00:36:35.069Z"
   },
   {
    "duration": 23,
    "start_time": "2025-03-11T00:36:35.116Z"
   },
   {
    "duration": 7,
    "start_time": "2025-03-11T00:36:35.141Z"
   },
   {
    "duration": 12,
    "start_time": "2025-03-11T00:36:35.151Z"
   },
   {
    "duration": 11,
    "start_time": "2025-03-11T00:36:35.164Z"
   },
   {
    "duration": 8,
    "start_time": "2025-03-11T00:36:35.177Z"
   },
   {
    "duration": 9,
    "start_time": "2025-03-11T00:36:35.187Z"
   },
   {
    "duration": 9,
    "start_time": "2025-03-11T00:36:35.230Z"
   },
   {
    "duration": 5,
    "start_time": "2025-03-11T00:36:35.241Z"
   },
   {
    "duration": 4,
    "start_time": "2025-03-11T00:36:35.248Z"
   },
   {
    "duration": 10,
    "start_time": "2025-03-11T00:36:35.253Z"
   },
   {
    "duration": 167,
    "start_time": "2025-03-11T00:36:35.265Z"
   },
   {
    "duration": 198,
    "start_time": "2025-03-11T00:36:35.436Z"
   },
   {
    "duration": 6,
    "start_time": "2025-03-11T00:36:35.635Z"
   },
   {
    "duration": 202,
    "start_time": "2025-03-11T00:36:35.642Z"
   },
   {
    "duration": 257,
    "start_time": "2025-03-11T00:36:35.845Z"
   },
   {
    "duration": 4,
    "start_time": "2025-03-11T00:36:36.104Z"
   },
   {
    "duration": 5,
    "start_time": "2025-03-11T00:36:36.109Z"
   },
   {
    "duration": 105,
    "start_time": "2025-03-11T00:36:36.115Z"
   },
   {
    "duration": 15,
    "start_time": "2025-03-11T00:36:36.231Z"
   },
   {
    "duration": 14,
    "start_time": "2025-03-11T00:38:59.834Z"
   },
   {
    "duration": 157,
    "start_time": "2025-03-11T00:46:38.004Z"
   },
   {
    "duration": 148,
    "start_time": "2025-03-11T00:46:43.341Z"
   },
   {
    "duration": 200,
    "start_time": "2025-03-11T00:47:25.281Z"
   },
   {
    "duration": 180,
    "start_time": "2025-03-11T00:47:54.233Z"
   },
   {
    "duration": 198,
    "start_time": "2025-03-11T00:48:09.349Z"
   },
   {
    "duration": 255,
    "start_time": "2025-03-11T00:49:12.714Z"
   },
   {
    "duration": 181,
    "start_time": "2025-03-11T00:50:10.552Z"
   },
   {
    "duration": 11,
    "start_time": "2025-03-11T00:50:29.803Z"
   },
   {
    "duration": 423,
    "start_time": "2025-03-11T00:50:38.579Z"
   },
   {
    "duration": 44,
    "start_time": "2025-03-11T00:50:39.004Z"
   },
   {
    "duration": 15,
    "start_time": "2025-03-11T00:50:39.049Z"
   },
   {
    "duration": 10,
    "start_time": "2025-03-11T00:50:39.066Z"
   },
   {
    "duration": 13,
    "start_time": "2025-03-11T00:50:39.077Z"
   },
   {
    "duration": 11,
    "start_time": "2025-03-11T00:50:39.092Z"
   },
   {
    "duration": 33,
    "start_time": "2025-03-11T00:50:39.105Z"
   },
   {
    "duration": 8,
    "start_time": "2025-03-11T00:50:39.140Z"
   },
   {
    "duration": 8,
    "start_time": "2025-03-11T00:50:39.150Z"
   },
   {
    "duration": 4,
    "start_time": "2025-03-11T00:50:39.161Z"
   },
   {
    "duration": 3,
    "start_time": "2025-03-11T00:50:39.167Z"
   },
   {
    "duration": 12,
    "start_time": "2025-03-11T00:50:39.172Z"
   },
   {
    "duration": 192,
    "start_time": "2025-03-11T00:50:39.185Z"
   },
   {
    "duration": 206,
    "start_time": "2025-03-11T00:50:39.379Z"
   },
   {
    "duration": 6,
    "start_time": "2025-03-11T00:50:39.587Z"
   },
   {
    "duration": 197,
    "start_time": "2025-03-11T00:50:39.595Z"
   },
   {
    "duration": 224,
    "start_time": "2025-03-11T00:50:39.794Z"
   },
   {
    "duration": 11,
    "start_time": "2025-03-11T00:50:40.020Z"
   },
   {
    "duration": 4,
    "start_time": "2025-03-11T00:50:40.033Z"
   },
   {
    "duration": 97,
    "start_time": "2025-03-11T00:50:40.039Z"
   },
   {
    "duration": 11,
    "start_time": "2025-03-11T00:50:40.138Z"
   },
   {
    "duration": 199,
    "start_time": "2025-03-11T00:50:40.152Z"
   },
   {
    "duration": 13,
    "start_time": "2025-03-11T00:51:57.988Z"
   },
   {
    "duration": 11,
    "start_time": "2025-03-11T00:56:02.189Z"
   },
   {
    "duration": 7,
    "start_time": "2025-03-11T00:56:41.097Z"
   },
   {
    "duration": 144,
    "start_time": "2025-03-11T01:21:55.665Z"
   },
   {
    "duration": 144,
    "start_time": "2025-03-11T01:22:06.618Z"
   },
   {
    "duration": 291,
    "start_time": "2025-03-11T01:25:56.327Z"
   },
   {
    "duration": 8,
    "start_time": "2025-03-11T01:29:55.388Z"
   },
   {
    "duration": 4,
    "start_time": "2025-03-11T01:34:06.210Z"
   },
   {
    "duration": 10,
    "start_time": "2025-03-11T01:46:14.879Z"
   },
   {
    "duration": 5,
    "start_time": "2025-03-11T01:47:21.232Z"
   },
   {
    "duration": 5,
    "start_time": "2025-03-11T01:47:44.084Z"
   },
   {
    "duration": 5,
    "start_time": "2025-03-11T01:48:33.799Z"
   },
   {
    "duration": 9,
    "start_time": "2025-03-11T01:49:05.949Z"
   },
   {
    "duration": 623,
    "start_time": "2025-03-11T01:51:28.452Z"
   },
   {
    "duration": 10,
    "start_time": "2025-03-11T01:53:04.344Z"
   },
   {
    "duration": 8,
    "start_time": "2025-03-11T01:53:27.605Z"
   },
   {
    "duration": 121,
    "start_time": "2025-03-11T01:54:56.045Z"
   },
   {
    "duration": 14,
    "start_time": "2025-03-11T01:55:13.700Z"
   },
   {
    "duration": 5,
    "start_time": "2025-03-11T03:28:34.701Z"
   },
   {
    "duration": 14,
    "start_time": "2025-03-11T03:35:04.664Z"
   },
   {
    "duration": 7,
    "start_time": "2025-03-11T03:35:11.371Z"
   },
   {
    "duration": 10,
    "start_time": "2025-03-11T03:35:36.920Z"
   },
   {
    "duration": 27,
    "start_time": "2025-03-11T03:35:43.955Z"
   },
   {
    "duration": 9,
    "start_time": "2025-03-11T03:35:50.748Z"
   },
   {
    "duration": 10,
    "start_time": "2025-03-11T03:38:56.074Z"
   },
   {
    "duration": 284,
    "start_time": "2025-03-11T03:41:06.502Z"
   },
   {
    "duration": 300,
    "start_time": "2025-03-11T03:42:20.566Z"
   },
   {
    "duration": 154,
    "start_time": "2025-03-11T03:43:02.246Z"
   },
   {
    "duration": 159,
    "start_time": "2025-03-11T03:43:28.131Z"
   },
   {
    "duration": 179,
    "start_time": "2025-03-11T03:44:40.126Z"
   },
   {
    "duration": 205,
    "start_time": "2025-03-11T03:44:58.148Z"
   },
   {
    "duration": 137,
    "start_time": "2025-03-11T03:45:20.919Z"
   },
   {
    "duration": 903,
    "start_time": "2025-03-11T03:45:51.108Z"
   },
   {
    "duration": 8,
    "start_time": "2025-03-11T03:45:52.013Z"
   },
   {
    "duration": 26,
    "start_time": "2025-03-11T03:45:52.022Z"
   },
   {
    "duration": 20,
    "start_time": "2025-03-11T03:45:52.051Z"
   },
   {
    "duration": 16,
    "start_time": "2025-03-11T03:45:52.073Z"
   },
   {
    "duration": 11,
    "start_time": "2025-03-11T03:45:52.090Z"
   },
   {
    "duration": 8,
    "start_time": "2025-03-11T03:45:52.103Z"
   },
   {
    "duration": 28,
    "start_time": "2025-03-11T03:45:52.136Z"
   },
   {
    "duration": 8,
    "start_time": "2025-03-11T03:45:52.166Z"
   },
   {
    "duration": 5,
    "start_time": "2025-03-11T03:45:52.178Z"
   },
   {
    "duration": 3,
    "start_time": "2025-03-11T03:45:52.185Z"
   },
   {
    "duration": 9,
    "start_time": "2025-03-11T03:45:52.190Z"
   },
   {
    "duration": 197,
    "start_time": "2025-03-11T03:45:52.201Z"
   },
   {
    "duration": 203,
    "start_time": "2025-03-11T03:45:52.400Z"
   },
   {
    "duration": 5,
    "start_time": "2025-03-11T03:45:52.605Z"
   },
   {
    "duration": 231,
    "start_time": "2025-03-11T03:45:52.612Z"
   },
   {
    "duration": 290,
    "start_time": "2025-03-11T03:45:52.845Z"
   },
   {
    "duration": 4,
    "start_time": "2025-03-11T03:45:53.137Z"
   },
   {
    "duration": 7,
    "start_time": "2025-03-11T03:45:53.143Z"
   },
   {
    "duration": 128,
    "start_time": "2025-03-11T03:45:53.153Z"
   },
   {
    "duration": 18,
    "start_time": "2025-03-11T03:45:53.283Z"
   },
   {
    "duration": 314,
    "start_time": "2025-03-11T03:45:53.304Z"
   },
   {
    "duration": 15,
    "start_time": "2025-03-11T03:45:53.620Z"
   },
   {
    "duration": 351,
    "start_time": "2025-03-11T03:45:53.637Z"
   },
   {
    "duration": 4,
    "start_time": "2025-03-11T03:45:53.989Z"
   },
   {
    "duration": 182,
    "start_time": "2025-03-11T03:45:53.995Z"
   },
   {
    "duration": 4,
    "start_time": "2025-03-11T03:45:54.179Z"
   },
   {
    "duration": 8,
    "start_time": "2025-03-11T03:45:54.188Z"
   },
   {
    "duration": 168,
    "start_time": "2025-03-11T03:45:54.198Z"
   },
   {
    "duration": 9,
    "start_time": "2025-03-11T03:45:54.368Z"
   },
   {
    "duration": 6,
    "start_time": "2025-03-11T04:08:05.474Z"
   },
   {
    "duration": 9,
    "start_time": "2025-03-11T04:08:25.223Z"
   },
   {
    "duration": 6,
    "start_time": "2025-03-11T04:10:31.412Z"
   },
   {
    "duration": 6,
    "start_time": "2025-03-11T04:11:01.423Z"
   },
   {
    "duration": 6,
    "start_time": "2025-03-11T04:11:25.949Z"
   },
   {
    "duration": 6,
    "start_time": "2025-03-11T04:11:32.661Z"
   },
   {
    "duration": 5,
    "start_time": "2025-03-11T04:12:24.801Z"
   },
   {
    "duration": 7,
    "start_time": "2025-03-11T04:12:44.036Z"
   },
   {
    "duration": 5,
    "start_time": "2025-03-11T04:12:49.757Z"
   },
   {
    "duration": 11,
    "start_time": "2025-03-11T04:13:06.033Z"
   },
   {
    "duration": 2564,
    "start_time": "2025-03-11T05:14:56.777Z"
   },
   {
    "duration": 10,
    "start_time": "2025-03-11T05:14:59.344Z"
   },
   {
    "duration": 21,
    "start_time": "2025-03-11T05:14:59.356Z"
   },
   {
    "duration": 16,
    "start_time": "2025-03-11T05:14:59.379Z"
   },
   {
    "duration": 13,
    "start_time": "2025-03-11T05:14:59.397Z"
   },
   {
    "duration": 10,
    "start_time": "2025-03-11T05:14:59.411Z"
   },
   {
    "duration": 8,
    "start_time": "2025-03-11T05:14:59.423Z"
   },
   {
    "duration": 8,
    "start_time": "2025-03-11T05:14:59.433Z"
   },
   {
    "duration": 8,
    "start_time": "2025-03-11T05:14:59.470Z"
   },
   {
    "duration": 4,
    "start_time": "2025-03-11T05:14:59.481Z"
   },
   {
    "duration": 3,
    "start_time": "2025-03-11T05:14:59.487Z"
   },
   {
    "duration": 11,
    "start_time": "2025-03-11T05:14:59.491Z"
   },
   {
    "duration": 167,
    "start_time": "2025-03-11T05:14:59.503Z"
   },
   {
    "duration": 181,
    "start_time": "2025-03-11T05:14:59.674Z"
   },
   {
    "duration": 13,
    "start_time": "2025-03-11T05:14:59.857Z"
   },
   {
    "duration": 210,
    "start_time": "2025-03-11T05:14:59.872Z"
   },
   {
    "duration": 275,
    "start_time": "2025-03-11T05:15:00.084Z"
   },
   {
    "duration": 9,
    "start_time": "2025-03-11T05:15:00.361Z"
   },
   {
    "duration": 6,
    "start_time": "2025-03-11T05:15:00.371Z"
   },
   {
    "duration": 96,
    "start_time": "2025-03-11T05:15:00.378Z"
   },
   {
    "duration": 10,
    "start_time": "2025-03-11T05:15:00.475Z"
   },
   {
    "duration": 195,
    "start_time": "2025-03-11T05:15:00.487Z"
   },
   {
    "duration": 10,
    "start_time": "2025-03-11T05:15:00.685Z"
   },
   {
    "duration": 232,
    "start_time": "2025-03-11T05:15:00.696Z"
   },
   {
    "duration": 4,
    "start_time": "2025-03-11T05:15:00.929Z"
   },
   {
    "duration": 132,
    "start_time": "2025-03-11T05:15:00.934Z"
   },
   {
    "duration": 3,
    "start_time": "2025-03-11T05:15:01.068Z"
   },
   {
    "duration": 8,
    "start_time": "2025-03-11T05:15:01.077Z"
   },
   {
    "duration": 7,
    "start_time": "2025-03-11T05:15:01.087Z"
   },
   {
    "duration": 0,
    "start_time": "2025-03-11T05:15:01.096Z"
   },
   {
    "duration": 0,
    "start_time": "2025-03-11T05:15:01.098Z"
   },
   {
    "duration": 0,
    "start_time": "2025-03-11T05:15:01.100Z"
   },
   {
    "duration": 799,
    "start_time": "2025-03-11T05:16:51.920Z"
   },
   {
    "duration": 7,
    "start_time": "2025-03-11T05:16:52.722Z"
   },
   {
    "duration": 16,
    "start_time": "2025-03-11T05:16:52.730Z"
   },
   {
    "duration": 25,
    "start_time": "2025-03-11T05:16:52.748Z"
   },
   {
    "duration": 14,
    "start_time": "2025-03-11T05:16:52.776Z"
   },
   {
    "duration": 12,
    "start_time": "2025-03-11T05:16:52.792Z"
   },
   {
    "duration": 9,
    "start_time": "2025-03-11T05:16:52.806Z"
   },
   {
    "duration": 9,
    "start_time": "2025-03-11T05:16:52.817Z"
   },
   {
    "duration": 9,
    "start_time": "2025-03-11T05:16:52.827Z"
   },
   {
    "duration": 37,
    "start_time": "2025-03-11T05:16:52.837Z"
   },
   {
    "duration": 4,
    "start_time": "2025-03-11T05:16:52.876Z"
   },
   {
    "duration": 11,
    "start_time": "2025-03-11T05:16:52.881Z"
   },
   {
    "duration": 177,
    "start_time": "2025-03-11T05:16:52.893Z"
   },
   {
    "duration": 187,
    "start_time": "2025-03-11T05:16:53.075Z"
   },
   {
    "duration": 11,
    "start_time": "2025-03-11T05:16:53.264Z"
   },
   {
    "duration": 222,
    "start_time": "2025-03-11T05:16:53.277Z"
   },
   {
    "duration": 245,
    "start_time": "2025-03-11T05:16:53.501Z"
   },
   {
    "duration": 3,
    "start_time": "2025-03-11T05:16:53.748Z"
   },
   {
    "duration": 18,
    "start_time": "2025-03-11T05:16:53.752Z"
   },
   {
    "duration": 104,
    "start_time": "2025-03-11T05:16:53.772Z"
   },
   {
    "duration": 12,
    "start_time": "2025-03-11T05:16:53.877Z"
   },
   {
    "duration": 216,
    "start_time": "2025-03-11T05:16:53.891Z"
   },
   {
    "duration": 10,
    "start_time": "2025-03-11T05:16:54.109Z"
   },
   {
    "duration": 303,
    "start_time": "2025-03-11T05:16:54.121Z"
   },
   {
    "duration": 5,
    "start_time": "2025-03-11T05:16:54.426Z"
   },
   {
    "duration": 141,
    "start_time": "2025-03-11T05:16:54.433Z"
   },
   {
    "duration": 7,
    "start_time": "2025-03-11T05:16:54.576Z"
   },
   {
    "duration": 10,
    "start_time": "2025-03-11T05:16:54.584Z"
   },
   {
    "duration": 156,
    "start_time": "2025-03-11T05:16:54.596Z"
   },
   {
    "duration": 9,
    "start_time": "2025-03-11T05:16:54.754Z"
   },
   {
    "duration": 4,
    "start_time": "2025-03-11T05:16:54.770Z"
   },
   {
    "duration": 10,
    "start_time": "2025-03-11T05:16:54.776Z"
   },
   {
    "duration": 13,
    "start_time": "2025-03-11T06:13:14.369Z"
   },
   {
    "duration": 2423,
    "start_time": "2025-03-11T20:32:11.948Z"
   },
   {
    "duration": 9,
    "start_time": "2025-03-11T20:32:14.375Z"
   },
   {
    "duration": 15,
    "start_time": "2025-03-11T20:32:14.386Z"
   },
   {
    "duration": 15,
    "start_time": "2025-03-11T20:32:14.403Z"
   },
   {
    "duration": 12,
    "start_time": "2025-03-11T20:32:14.421Z"
   },
   {
    "duration": 11,
    "start_time": "2025-03-11T20:32:14.434Z"
   },
   {
    "duration": 30,
    "start_time": "2025-03-11T20:32:14.446Z"
   },
   {
    "duration": 9,
    "start_time": "2025-03-11T20:32:14.478Z"
   },
   {
    "duration": 8,
    "start_time": "2025-03-11T20:32:14.488Z"
   },
   {
    "duration": 6,
    "start_time": "2025-03-11T20:32:14.498Z"
   },
   {
    "duration": 3,
    "start_time": "2025-03-11T20:32:14.506Z"
   },
   {
    "duration": 10,
    "start_time": "2025-03-11T20:32:14.511Z"
   },
   {
    "duration": 184,
    "start_time": "2025-03-11T20:32:14.523Z"
   },
   {
    "duration": 188,
    "start_time": "2025-03-11T20:32:14.712Z"
   },
   {
    "duration": 5,
    "start_time": "2025-03-11T20:32:14.902Z"
   },
   {
    "duration": 197,
    "start_time": "2025-03-11T20:32:14.909Z"
   },
   {
    "duration": 253,
    "start_time": "2025-03-11T20:32:15.108Z"
   },
   {
    "duration": 3,
    "start_time": "2025-03-11T20:32:15.369Z"
   },
   {
    "duration": 5,
    "start_time": "2025-03-11T20:32:15.375Z"
   },
   {
    "duration": 99,
    "start_time": "2025-03-11T20:32:15.381Z"
   },
   {
    "duration": 10,
    "start_time": "2025-03-11T20:32:15.482Z"
   },
   {
    "duration": 194,
    "start_time": "2025-03-11T20:32:15.493Z"
   },
   {
    "duration": 7,
    "start_time": "2025-03-11T20:32:15.689Z"
   },
   {
    "duration": 237,
    "start_time": "2025-03-11T20:32:15.698Z"
   },
   {
    "duration": 5,
    "start_time": "2025-03-11T20:32:15.936Z"
   },
   {
    "duration": 130,
    "start_time": "2025-03-11T20:32:15.943Z"
   },
   {
    "duration": 4,
    "start_time": "2025-03-11T20:32:16.075Z"
   },
   {
    "duration": 9,
    "start_time": "2025-03-11T20:32:16.081Z"
   },
   {
    "duration": 159,
    "start_time": "2025-03-11T20:32:16.093Z"
   },
   {
    "duration": 16,
    "start_time": "2025-03-11T20:32:16.254Z"
   },
   {
    "duration": 7,
    "start_time": "2025-03-11T20:55:28.760Z"
   },
   {
    "duration": 259,
    "start_time": "2025-03-11T21:13:15.858Z"
   },
   {
    "duration": 5,
    "start_time": "2025-03-11T21:13:23.003Z"
   },
   {
    "duration": 4,
    "start_time": "2025-03-11T21:13:24.845Z"
   },
   {
    "duration": 5,
    "start_time": "2025-03-11T21:14:44.728Z"
   },
   {
    "duration": 4,
    "start_time": "2025-03-11T21:14:59.302Z"
   },
   {
    "duration": 8,
    "start_time": "2025-03-11T21:16:30.678Z"
   },
   {
    "duration": 16,
    "start_time": "2025-03-11T21:17:22.951Z"
   },
   {
    "duration": 3,
    "start_time": "2025-03-11T21:17:40.856Z"
   },
   {
    "duration": 4,
    "start_time": "2025-03-11T21:17:50.339Z"
   },
   {
    "duration": 8,
    "start_time": "2025-03-11T21:18:35.409Z"
   },
   {
    "duration": 6,
    "start_time": "2025-03-11T21:19:17.022Z"
   },
   {
    "duration": 7,
    "start_time": "2025-03-11T21:20:33.394Z"
   },
   {
    "duration": 6,
    "start_time": "2025-03-11T21:27:15.539Z"
   },
   {
    "duration": 4,
    "start_time": "2025-03-11T21:48:39.653Z"
   },
   {
    "duration": 11,
    "start_time": "2025-03-11T21:48:45.325Z"
   },
   {
    "duration": 413,
    "start_time": "2025-03-11T22:03:55.716Z"
   },
   {
    "duration": 789,
    "start_time": "2025-03-11T22:04:03.908Z"
   },
   {
    "duration": 7,
    "start_time": "2025-03-11T22:04:04.700Z"
   },
   {
    "duration": 13,
    "start_time": "2025-03-11T22:04:04.709Z"
   },
   {
    "duration": 10,
    "start_time": "2025-03-11T22:04:04.725Z"
   },
   {
    "duration": 13,
    "start_time": "2025-03-11T22:04:04.737Z"
   },
   {
    "duration": 29,
    "start_time": "2025-03-11T22:04:04.752Z"
   },
   {
    "duration": 9,
    "start_time": "2025-03-11T22:04:04.782Z"
   },
   {
    "duration": 8,
    "start_time": "2025-03-11T22:04:04.793Z"
   },
   {
    "duration": 7,
    "start_time": "2025-03-11T22:04:04.803Z"
   },
   {
    "duration": 5,
    "start_time": "2025-03-11T22:04:04.813Z"
   },
   {
    "duration": 3,
    "start_time": "2025-03-11T22:04:04.819Z"
   },
   {
    "duration": 54,
    "start_time": "2025-03-11T22:04:04.824Z"
   },
   {
    "duration": 149,
    "start_time": "2025-03-11T22:04:04.880Z"
   },
   {
    "duration": 202,
    "start_time": "2025-03-11T22:04:05.030Z"
   },
   {
    "duration": 5,
    "start_time": "2025-03-11T22:04:05.234Z"
   },
   {
    "duration": 221,
    "start_time": "2025-03-11T22:04:05.241Z"
   },
   {
    "duration": 239,
    "start_time": "2025-03-11T22:04:05.464Z"
   },
   {
    "duration": 3,
    "start_time": "2025-03-11T22:04:05.705Z"
   },
   {
    "duration": 5,
    "start_time": "2025-03-11T22:04:05.709Z"
   },
   {
    "duration": 108,
    "start_time": "2025-03-11T22:04:05.716Z"
   },
   {
    "duration": 10,
    "start_time": "2025-03-11T22:04:05.825Z"
   },
   {
    "duration": 197,
    "start_time": "2025-03-11T22:04:05.837Z"
   },
   {
    "duration": 8,
    "start_time": "2025-03-11T22:04:06.035Z"
   },
   {
    "duration": 299,
    "start_time": "2025-03-11T22:04:06.045Z"
   },
   {
    "duration": 5,
    "start_time": "2025-03-11T22:04:06.346Z"
   },
   {
    "duration": 126,
    "start_time": "2025-03-11T22:04:06.353Z"
   },
   {
    "duration": 4,
    "start_time": "2025-03-11T22:04:06.481Z"
   },
   {
    "duration": 8,
    "start_time": "2025-03-11T22:04:06.489Z"
   },
   {
    "duration": 161,
    "start_time": "2025-03-11T22:04:06.499Z"
   },
   {
    "duration": 16,
    "start_time": "2025-03-11T22:04:06.661Z"
   },
   {
    "duration": 668,
    "start_time": "2025-03-11T22:04:06.680Z"
   },
   {
    "duration": 0,
    "start_time": "2025-03-11T22:04:07.350Z"
   },
   {
    "duration": 0,
    "start_time": "2025-03-11T22:04:07.352Z"
   },
   {
    "duration": 0,
    "start_time": "2025-03-11T22:04:07.353Z"
   },
   {
    "duration": 1,
    "start_time": "2025-03-11T22:04:07.354Z"
   },
   {
    "duration": 0,
    "start_time": "2025-03-11T22:04:07.356Z"
   },
   {
    "duration": 0,
    "start_time": "2025-03-11T22:04:07.370Z"
   },
   {
    "duration": 7,
    "start_time": "2025-03-11T22:05:22.055Z"
   },
   {
    "duration": 9,
    "start_time": "2025-03-11T22:06:59.227Z"
   },
   {
    "duration": 732,
    "start_time": "2025-03-11T22:08:10.027Z"
   },
   {
    "duration": 8,
    "start_time": "2025-03-11T22:08:10.762Z"
   },
   {
    "duration": 13,
    "start_time": "2025-03-11T22:08:10.773Z"
   },
   {
    "duration": 7,
    "start_time": "2025-03-11T22:08:10.788Z"
   },
   {
    "duration": 12,
    "start_time": "2025-03-11T22:08:10.798Z"
   },
   {
    "duration": 10,
    "start_time": "2025-03-11T22:08:10.812Z"
   },
   {
    "duration": 8,
    "start_time": "2025-03-11T22:08:10.824Z"
   },
   {
    "duration": 37,
    "start_time": "2025-03-11T22:08:10.834Z"
   },
   {
    "duration": 8,
    "start_time": "2025-03-11T22:08:10.872Z"
   },
   {
    "duration": 5,
    "start_time": "2025-03-11T22:08:10.882Z"
   },
   {
    "duration": 3,
    "start_time": "2025-03-11T22:08:10.889Z"
   },
   {
    "duration": 10,
    "start_time": "2025-03-11T22:08:10.894Z"
   },
   {
    "duration": 176,
    "start_time": "2025-03-11T22:08:10.905Z"
   },
   {
    "duration": 184,
    "start_time": "2025-03-11T22:08:11.085Z"
   },
   {
    "duration": 5,
    "start_time": "2025-03-11T22:08:11.271Z"
   },
   {
    "duration": 202,
    "start_time": "2025-03-11T22:08:11.277Z"
   },
   {
    "duration": 267,
    "start_time": "2025-03-11T22:08:11.480Z"
   },
   {
    "duration": 3,
    "start_time": "2025-03-11T22:08:11.750Z"
   },
   {
    "duration": 14,
    "start_time": "2025-03-11T22:08:11.756Z"
   },
   {
    "duration": 101,
    "start_time": "2025-03-11T22:08:11.771Z"
   },
   {
    "duration": 10,
    "start_time": "2025-03-11T22:08:11.874Z"
   },
   {
    "duration": 200,
    "start_time": "2025-03-11T22:08:11.886Z"
   },
   {
    "duration": 7,
    "start_time": "2025-03-11T22:08:12.088Z"
   },
   {
    "duration": 260,
    "start_time": "2025-03-11T22:08:12.097Z"
   },
   {
    "duration": 12,
    "start_time": "2025-03-11T22:08:12.359Z"
   },
   {
    "duration": 126,
    "start_time": "2025-03-11T22:08:12.373Z"
   },
   {
    "duration": 5,
    "start_time": "2025-03-11T22:08:12.501Z"
   },
   {
    "duration": 8,
    "start_time": "2025-03-11T22:08:12.507Z"
   },
   {
    "duration": 158,
    "start_time": "2025-03-11T22:08:12.517Z"
   },
   {
    "duration": 8,
    "start_time": "2025-03-11T22:08:12.677Z"
   },
   {
    "duration": 7,
    "start_time": "2025-03-11T22:08:12.687Z"
   },
   {
    "duration": 7,
    "start_time": "2025-03-11T22:08:12.695Z"
   },
   {
    "duration": 8,
    "start_time": "2025-03-11T22:08:12.704Z"
   },
   {
    "duration": 6,
    "start_time": "2025-03-11T22:08:12.715Z"
   },
   {
    "duration": 8,
    "start_time": "2025-03-11T22:08:12.723Z"
   },
   {
    "duration": 13,
    "start_time": "2025-03-11T22:08:12.770Z"
   },
   {
    "duration": 8,
    "start_time": "2025-03-11T22:08:12.785Z"
   },
   {
    "duration": 6,
    "start_time": "2025-03-11T22:14:15.916Z"
   },
   {
    "duration": 4,
    "start_time": "2025-03-11T22:16:08.713Z"
   },
   {
    "duration": 11,
    "start_time": "2025-03-11T22:16:25.535Z"
   },
   {
    "duration": 9,
    "start_time": "2025-03-11T22:21:02.439Z"
   },
   {
    "duration": 6,
    "start_time": "2025-03-11T22:21:42.304Z"
   },
   {
    "duration": 7,
    "start_time": "2025-03-11T22:24:53.096Z"
   },
   {
    "duration": 7,
    "start_time": "2025-03-11T22:26:11.207Z"
   },
   {
    "duration": 4,
    "start_time": "2025-03-11T22:26:29.292Z"
   },
   {
    "duration": 7,
    "start_time": "2025-03-11T22:29:06.049Z"
   },
   {
    "duration": 6,
    "start_time": "2025-03-11T22:30:27.592Z"
   },
   {
    "duration": 9,
    "start_time": "2025-03-11T22:31:53.924Z"
   },
   {
    "duration": 21,
    "start_time": "2025-03-11T22:33:14.759Z"
   },
   {
    "duration": 6,
    "start_time": "2025-03-11T22:44:38.782Z"
   },
   {
    "duration": 5,
    "start_time": "2025-03-11T22:46:00.180Z"
   },
   {
    "duration": 4,
    "start_time": "2025-03-11T22:46:07.271Z"
   },
   {
    "duration": 13,
    "start_time": "2025-03-11T22:58:54.188Z"
   },
   {
    "duration": 4,
    "start_time": "2025-03-11T23:17:28.911Z"
   },
   {
    "duration": 7,
    "start_time": "2025-03-11T23:17:37.183Z"
   },
   {
    "duration": 6,
    "start_time": "2025-03-11T23:18:08.228Z"
   },
   {
    "duration": 8,
    "start_time": "2025-03-11T23:19:12.189Z"
   },
   {
    "duration": 9,
    "start_time": "2025-03-11T23:20:22.929Z"
   },
   {
    "duration": 12,
    "start_time": "2025-03-11T23:21:14.081Z"
   },
   {
    "duration": 735,
    "start_time": "2025-03-11T23:36:23.564Z"
   },
   {
    "duration": 7,
    "start_time": "2025-03-11T23:36:24.302Z"
   },
   {
    "duration": 15,
    "start_time": "2025-03-11T23:36:24.310Z"
   },
   {
    "duration": 9,
    "start_time": "2025-03-11T23:36:24.326Z"
   },
   {
    "duration": 13,
    "start_time": "2025-03-11T23:36:24.338Z"
   },
   {
    "duration": 28,
    "start_time": "2025-03-11T23:36:24.352Z"
   },
   {
    "duration": 9,
    "start_time": "2025-03-11T23:36:24.382Z"
   },
   {
    "duration": 9,
    "start_time": "2025-03-11T23:36:24.392Z"
   },
   {
    "duration": 7,
    "start_time": "2025-03-11T23:36:24.403Z"
   },
   {
    "duration": 5,
    "start_time": "2025-03-11T23:36:24.412Z"
   },
   {
    "duration": 3,
    "start_time": "2025-03-11T23:36:24.418Z"
   },
   {
    "duration": 48,
    "start_time": "2025-03-11T23:36:24.423Z"
   },
   {
    "duration": 151,
    "start_time": "2025-03-11T23:36:24.473Z"
   },
   {
    "duration": 182,
    "start_time": "2025-03-11T23:36:24.629Z"
   },
   {
    "duration": 5,
    "start_time": "2025-03-11T23:36:24.813Z"
   },
   {
    "duration": 206,
    "start_time": "2025-03-11T23:36:24.820Z"
   },
   {
    "duration": 226,
    "start_time": "2025-03-11T23:36:25.029Z"
   },
   {
    "duration": 3,
    "start_time": "2025-03-11T23:36:25.257Z"
   },
   {
    "duration": 4,
    "start_time": "2025-03-11T23:36:25.271Z"
   },
   {
    "duration": 108,
    "start_time": "2025-03-11T23:36:25.276Z"
   },
   {
    "duration": 11,
    "start_time": "2025-03-11T23:36:25.386Z"
   },
   {
    "duration": 199,
    "start_time": "2025-03-11T23:36:25.398Z"
   },
   {
    "duration": 8,
    "start_time": "2025-03-11T23:36:25.599Z"
   },
   {
    "duration": 263,
    "start_time": "2025-03-11T23:36:25.609Z"
   },
   {
    "duration": 4,
    "start_time": "2025-03-11T23:36:25.874Z"
   },
   {
    "duration": 131,
    "start_time": "2025-03-11T23:36:25.879Z"
   },
   {
    "duration": 4,
    "start_time": "2025-03-11T23:36:26.012Z"
   },
   {
    "duration": 9,
    "start_time": "2025-03-11T23:36:26.018Z"
   },
   {
    "duration": 155,
    "start_time": "2025-03-11T23:36:26.028Z"
   },
   {
    "duration": 8,
    "start_time": "2025-03-11T23:36:26.184Z"
   },
   {
    "duration": 7,
    "start_time": "2025-03-11T23:36:26.194Z"
   },
   {
    "duration": 21,
    "start_time": "2025-03-11T23:36:26.203Z"
   },
   {
    "duration": 9,
    "start_time": "2025-03-11T23:36:26.226Z"
   },
   {
    "duration": 12,
    "start_time": "2025-03-11T23:56:04.622Z"
   },
   {
    "duration": 14,
    "start_time": "2025-03-11T23:58:03.964Z"
   },
   {
    "duration": 11,
    "start_time": "2025-03-12T00:00:06.444Z"
   },
   {
    "duration": 9,
    "start_time": "2025-03-12T00:00:11.409Z"
   },
   {
    "duration": 5,
    "start_time": "2025-03-12T00:00:44.956Z"
   },
   {
    "duration": 9,
    "start_time": "2025-03-12T00:01:48.914Z"
   },
   {
    "duration": 13,
    "start_time": "2025-03-12T00:02:49.302Z"
   },
   {
    "duration": 16,
    "start_time": "2025-03-12T00:02:58.078Z"
   },
   {
    "duration": 7,
    "start_time": "2025-03-12T00:11:53.448Z"
   },
   {
    "duration": 7,
    "start_time": "2025-03-12T00:11:56.017Z"
   },
   {
    "duration": 7,
    "start_time": "2025-03-12T00:12:35.898Z"
   },
   {
    "duration": 11,
    "start_time": "2025-03-12T00:13:08.416Z"
   },
   {
    "duration": 3,
    "start_time": "2025-03-12T00:15:07.264Z"
   },
   {
    "duration": 342,
    "start_time": "2025-03-12T00:15:23.277Z"
   },
   {
    "duration": 836,
    "start_time": "2025-03-12T00:15:34.105Z"
   },
   {
    "duration": 8,
    "start_time": "2025-03-12T00:15:34.944Z"
   },
   {
    "duration": 19,
    "start_time": "2025-03-12T00:15:34.953Z"
   },
   {
    "duration": 9,
    "start_time": "2025-03-12T00:15:34.974Z"
   },
   {
    "duration": 12,
    "start_time": "2025-03-12T00:15:34.985Z"
   },
   {
    "duration": 11,
    "start_time": "2025-03-12T00:15:34.998Z"
   },
   {
    "duration": 10,
    "start_time": "2025-03-12T00:15:35.010Z"
   },
   {
    "duration": 9,
    "start_time": "2025-03-12T00:15:35.021Z"
   },
   {
    "duration": 40,
    "start_time": "2025-03-12T00:15:35.031Z"
   },
   {
    "duration": 6,
    "start_time": "2025-03-12T00:15:35.073Z"
   },
   {
    "duration": 3,
    "start_time": "2025-03-12T00:15:35.081Z"
   },
   {
    "duration": 13,
    "start_time": "2025-03-12T00:15:35.086Z"
   },
   {
    "duration": 5,
    "start_time": "2025-03-12T00:15:35.101Z"
   },
   {
    "duration": 186,
    "start_time": "2025-03-12T00:15:35.110Z"
   },
   {
    "duration": 225,
    "start_time": "2025-03-12T00:15:35.299Z"
   },
   {
    "duration": 13,
    "start_time": "2025-03-12T00:15:35.527Z"
   },
   {
    "duration": 216,
    "start_time": "2025-03-12T00:15:35.542Z"
   },
   {
    "duration": 321,
    "start_time": "2025-03-12T00:15:35.760Z"
   },
   {
    "duration": 3,
    "start_time": "2025-03-12T00:15:36.083Z"
   },
   {
    "duration": 6,
    "start_time": "2025-03-12T00:15:36.088Z"
   },
   {
    "duration": 153,
    "start_time": "2025-03-12T00:15:36.096Z"
   },
   {
    "duration": 22,
    "start_time": "2025-03-12T00:15:36.251Z"
   },
   {
    "duration": 233,
    "start_time": "2025-03-12T00:15:36.275Z"
   },
   {
    "duration": 9,
    "start_time": "2025-03-12T00:15:36.510Z"
   },
   {
    "duration": 300,
    "start_time": "2025-03-12T00:15:36.521Z"
   },
   {
    "duration": 4,
    "start_time": "2025-03-12T00:15:36.823Z"
   },
   {
    "duration": 182,
    "start_time": "2025-03-12T00:15:36.830Z"
   },
   {
    "duration": 4,
    "start_time": "2025-03-12T00:15:37.014Z"
   },
   {
    "duration": 9,
    "start_time": "2025-03-12T00:15:37.019Z"
   },
   {
    "duration": 170,
    "start_time": "2025-03-12T00:15:37.030Z"
   },
   {
    "duration": 10,
    "start_time": "2025-03-12T00:15:37.201Z"
   },
   {
    "duration": 8,
    "start_time": "2025-03-12T00:15:37.213Z"
   },
   {
    "duration": 20,
    "start_time": "2025-03-12T00:15:37.223Z"
   },
   {
    "duration": 34,
    "start_time": "2025-03-12T00:15:37.245Z"
   },
   {
    "duration": 8,
    "start_time": "2025-03-12T00:17:09.330Z"
   },
   {
    "duration": 15,
    "start_time": "2025-03-12T00:17:19.746Z"
   },
   {
    "duration": 12,
    "start_time": "2025-03-12T00:17:38.492Z"
   },
   {
    "duration": 8,
    "start_time": "2025-03-12T00:20:41.703Z"
   },
   {
    "duration": 11,
    "start_time": "2025-03-12T00:20:57.025Z"
   },
   {
    "duration": 9,
    "start_time": "2025-03-12T00:23:30.762Z"
   },
   {
    "duration": 240,
    "start_time": "2025-03-12T00:27:00.624Z"
   },
   {
    "duration": 9,
    "start_time": "2025-03-12T00:28:31.017Z"
   },
   {
    "duration": 11,
    "start_time": "2025-03-12T00:29:00.606Z"
   },
   {
    "duration": 10,
    "start_time": "2025-03-12T00:29:14.428Z"
   },
   {
    "duration": 10,
    "start_time": "2025-03-12T00:30:09.805Z"
   },
   {
    "duration": 10,
    "start_time": "2025-03-12T00:30:44.209Z"
   },
   {
    "duration": 9,
    "start_time": "2025-03-12T00:30:57.197Z"
   },
   {
    "duration": 8,
    "start_time": "2025-03-12T00:37:33.768Z"
   },
   {
    "duration": 11,
    "start_time": "2025-03-12T00:37:42.996Z"
   },
   {
    "duration": 11,
    "start_time": "2025-03-12T00:37:49.244Z"
   },
   {
    "duration": 8,
    "start_time": "2025-03-12T00:37:54.319Z"
   },
   {
    "duration": 16,
    "start_time": "2025-03-12T00:41:52.602Z"
   },
   {
    "duration": 12,
    "start_time": "2025-03-12T00:42:16.744Z"
   },
   {
    "duration": 11,
    "start_time": "2025-03-12T00:43:04.074Z"
   },
   {
    "duration": 12,
    "start_time": "2025-03-12T00:53:38.583Z"
   },
   {
    "duration": 5,
    "start_time": "2025-03-12T00:54:28.630Z"
   },
   {
    "duration": 12,
    "start_time": "2025-03-12T00:54:38.941Z"
   },
   {
    "duration": 6,
    "start_time": "2025-03-12T00:55:32.753Z"
   },
   {
    "duration": 13,
    "start_time": "2025-03-12T00:56:40.338Z"
   },
   {
    "duration": 9,
    "start_time": "2025-03-12T00:57:35.255Z"
   },
   {
    "duration": 10,
    "start_time": "2025-03-12T00:57:45.414Z"
   },
   {
    "duration": 434,
    "start_time": "2025-03-12T00:59:08.528Z"
   },
   {
    "duration": 13,
    "start_time": "2025-03-12T00:59:43.247Z"
   },
   {
    "duration": 13,
    "start_time": "2025-03-12T01:01:19.762Z"
   },
   {
    "duration": 12,
    "start_time": "2025-03-12T01:02:31.579Z"
   },
   {
    "duration": 11,
    "start_time": "2025-03-12T01:03:08.866Z"
   },
   {
    "duration": 811,
    "start_time": "2025-03-12T01:05:35.785Z"
   },
   {
    "duration": 7,
    "start_time": "2025-03-12T01:05:36.598Z"
   },
   {
    "duration": 15,
    "start_time": "2025-03-12T01:05:36.607Z"
   },
   {
    "duration": 10,
    "start_time": "2025-03-12T01:05:36.624Z"
   },
   {
    "duration": 14,
    "start_time": "2025-03-12T01:05:36.636Z"
   },
   {
    "duration": 29,
    "start_time": "2025-03-12T01:05:36.651Z"
   },
   {
    "duration": 10,
    "start_time": "2025-03-12T01:05:36.681Z"
   },
   {
    "duration": 9,
    "start_time": "2025-03-12T01:05:36.692Z"
   },
   {
    "duration": 8,
    "start_time": "2025-03-12T01:05:36.702Z"
   },
   {
    "duration": 5,
    "start_time": "2025-03-12T01:05:36.712Z"
   },
   {
    "duration": 3,
    "start_time": "2025-03-12T01:05:36.720Z"
   },
   {
    "duration": 53,
    "start_time": "2025-03-12T01:05:36.725Z"
   },
   {
    "duration": 3,
    "start_time": "2025-03-12T01:05:36.780Z"
   },
   {
    "duration": 5,
    "start_time": "2025-03-12T01:05:36.787Z"
   },
   {
    "duration": 8,
    "start_time": "2025-03-12T01:05:36.794Z"
   },
   {
    "duration": 9,
    "start_time": "2025-03-12T01:05:36.804Z"
   },
   {
    "duration": 11,
    "start_time": "2025-03-12T01:05:36.815Z"
   },
   {
    "duration": 8,
    "start_time": "2025-03-12T01:05:36.827Z"
   },
   {
    "duration": 152,
    "start_time": "2025-03-12T01:05:36.870Z"
   },
   {
    "duration": 194,
    "start_time": "2025-03-12T01:05:37.024Z"
   },
   {
    "duration": 6,
    "start_time": "2025-03-12T01:05:37.219Z"
   },
   {
    "duration": 211,
    "start_time": "2025-03-12T01:05:37.227Z"
   },
   {
    "duration": 223,
    "start_time": "2025-03-12T01:05:37.440Z"
   },
   {
    "duration": 111,
    "start_time": "2025-03-12T01:05:37.664Z"
   },
   {
    "duration": 11,
    "start_time": "2025-03-12T01:05:37.777Z"
   },
   {
    "duration": 194,
    "start_time": "2025-03-12T01:05:37.790Z"
   },
   {
    "duration": 9,
    "start_time": "2025-03-12T01:05:37.986Z"
   },
   {
    "duration": 281,
    "start_time": "2025-03-12T01:05:37.998Z"
   },
   {
    "duration": 6,
    "start_time": "2025-03-12T01:05:38.281Z"
   },
   {
    "duration": 135,
    "start_time": "2025-03-12T01:05:38.288Z"
   },
   {
    "duration": 5,
    "start_time": "2025-03-12T01:05:38.425Z"
   },
   {
    "duration": 10,
    "start_time": "2025-03-12T01:05:38.432Z"
   },
   {
    "duration": 151,
    "start_time": "2025-03-12T01:05:38.443Z"
   },
   {
    "duration": 8,
    "start_time": "2025-03-12T01:05:38.596Z"
   },
   {
    "duration": 7,
    "start_time": "2025-03-12T01:05:38.605Z"
   },
   {
    "duration": 21,
    "start_time": "2025-03-12T01:05:38.613Z"
   },
   {
    "duration": 34,
    "start_time": "2025-03-12T01:05:38.636Z"
   },
   {
    "duration": 13,
    "start_time": "2025-03-12T01:08:35.907Z"
   },
   {
    "duration": 12,
    "start_time": "2025-03-12T01:08:55.949Z"
   },
   {
    "duration": 14,
    "start_time": "2025-03-12T01:09:32.545Z"
   },
   {
    "duration": 8,
    "start_time": "2025-03-12T01:09:42.817Z"
   },
   {
    "duration": 6,
    "start_time": "2025-03-12T01:11:02.736Z"
   },
   {
    "duration": 5,
    "start_time": "2025-03-12T01:11:22.802Z"
   },
   {
    "duration": 11,
    "start_time": "2025-03-12T01:11:58.145Z"
   },
   {
    "duration": 12,
    "start_time": "2025-03-12T01:12:03.296Z"
   },
   {
    "duration": 11,
    "start_time": "2025-03-12T01:20:27.207Z"
   },
   {
    "duration": 17,
    "start_time": "2025-03-12T01:20:36.535Z"
   },
   {
    "duration": 10,
    "start_time": "2025-03-12T01:21:35.697Z"
   },
   {
    "duration": 17,
    "start_time": "2025-03-12T01:24:37.931Z"
   },
   {
    "duration": 11,
    "start_time": "2025-03-12T01:24:51.051Z"
   },
   {
    "duration": 215,
    "start_time": "2025-03-12T01:29:24.084Z"
   },
   {
    "duration": 796,
    "start_time": "2025-03-12T01:29:35.811Z"
   },
   {
    "duration": 7,
    "start_time": "2025-03-12T01:29:36.610Z"
   },
   {
    "duration": 14,
    "start_time": "2025-03-12T01:29:36.619Z"
   },
   {
    "duration": 10,
    "start_time": "2025-03-12T01:29:36.634Z"
   },
   {
    "duration": 29,
    "start_time": "2025-03-12T01:29:36.646Z"
   },
   {
    "duration": 11,
    "start_time": "2025-03-12T01:29:36.677Z"
   },
   {
    "duration": 9,
    "start_time": "2025-03-12T01:29:36.690Z"
   },
   {
    "duration": 9,
    "start_time": "2025-03-12T01:29:36.700Z"
   },
   {
    "duration": 9,
    "start_time": "2025-03-12T01:29:36.710Z"
   },
   {
    "duration": 6,
    "start_time": "2025-03-12T01:29:36.720Z"
   },
   {
    "duration": 4,
    "start_time": "2025-03-12T01:29:36.727Z"
   },
   {
    "duration": 49,
    "start_time": "2025-03-12T01:29:36.732Z"
   },
   {
    "duration": 3,
    "start_time": "2025-03-12T01:29:36.785Z"
   },
   {
    "duration": 4,
    "start_time": "2025-03-12T01:29:36.792Z"
   },
   {
    "duration": 9,
    "start_time": "2025-03-12T01:29:36.797Z"
   },
   {
    "duration": 11,
    "start_time": "2025-03-12T01:29:36.808Z"
   },
   {
    "duration": 177,
    "start_time": "2025-03-12T01:29:36.821Z"
   },
   {
    "duration": 207,
    "start_time": "2025-03-12T01:29:37.000Z"
   },
   {
    "duration": 6,
    "start_time": "2025-03-12T01:29:37.209Z"
   },
   {
    "duration": 205,
    "start_time": "2025-03-12T01:29:37.217Z"
   },
   {
    "duration": 230,
    "start_time": "2025-03-12T01:29:37.424Z"
   },
   {
    "duration": 90,
    "start_time": "2025-03-12T01:29:37.656Z"
   },
   {
    "duration": 23,
    "start_time": "2025-03-12T01:29:37.748Z"
   },
   {
    "duration": 174,
    "start_time": "2025-03-12T01:29:37.773Z"
   },
   {
    "duration": 7,
    "start_time": "2025-03-12T01:29:37.949Z"
   },
   {
    "duration": 281,
    "start_time": "2025-03-12T01:29:37.970Z"
   },
   {
    "duration": 4,
    "start_time": "2025-03-12T01:29:38.253Z"
   },
   {
    "duration": 137,
    "start_time": "2025-03-12T01:29:38.259Z"
   },
   {
    "duration": 4,
    "start_time": "2025-03-12T01:29:38.398Z"
   },
   {
    "duration": 8,
    "start_time": "2025-03-12T01:29:38.404Z"
   },
   {
    "duration": 137,
    "start_time": "2025-03-12T01:29:38.414Z"
   },
   {
    "duration": 18,
    "start_time": "2025-03-12T01:29:38.552Z"
   },
   {
    "duration": 6,
    "start_time": "2025-03-12T01:29:38.572Z"
   },
   {
    "duration": 19,
    "start_time": "2025-03-12T01:29:38.580Z"
   },
   {
    "duration": 8,
    "start_time": "2025-03-12T01:29:38.601Z"
   },
   {
    "duration": 4,
    "start_time": "2025-03-12T01:32:47.614Z"
   },
   {
    "duration": 8,
    "start_time": "2025-03-12T01:33:10.734Z"
   },
   {
    "duration": 3,
    "start_time": "2025-03-12T01:33:50.141Z"
   },
   {
    "duration": 18,
    "start_time": "2025-03-12T01:36:29.727Z"
   },
   {
    "duration": 16,
    "start_time": "2025-03-12T01:36:42.143Z"
   },
   {
    "duration": 748,
    "start_time": "2025-03-12T01:42:56.066Z"
   },
   {
    "duration": 8,
    "start_time": "2025-03-12T01:42:56.817Z"
   },
   {
    "duration": 14,
    "start_time": "2025-03-12T01:42:56.826Z"
   },
   {
    "duration": 10,
    "start_time": "2025-03-12T01:42:56.841Z"
   },
   {
    "duration": 24,
    "start_time": "2025-03-12T01:42:56.853Z"
   },
   {
    "duration": 12,
    "start_time": "2025-03-12T01:42:56.879Z"
   },
   {
    "duration": 9,
    "start_time": "2025-03-12T01:42:56.893Z"
   },
   {
    "duration": 9,
    "start_time": "2025-03-12T01:42:56.903Z"
   },
   {
    "duration": 7,
    "start_time": "2025-03-12T01:42:56.913Z"
   },
   {
    "duration": 5,
    "start_time": "2025-03-12T01:42:56.922Z"
   },
   {
    "duration": 42,
    "start_time": "2025-03-12T01:42:56.929Z"
   },
   {
    "duration": 10,
    "start_time": "2025-03-12T01:42:56.973Z"
   },
   {
    "duration": 3,
    "start_time": "2025-03-12T01:42:56.985Z"
   },
   {
    "duration": 3,
    "start_time": "2025-03-12T01:42:56.992Z"
   },
   {
    "duration": 8,
    "start_time": "2025-03-12T01:42:56.997Z"
   },
   {
    "duration": 16,
    "start_time": "2025-03-12T01:42:57.007Z"
   },
   {
    "duration": 192,
    "start_time": "2025-03-12T01:42:57.025Z"
   },
   {
    "duration": 195,
    "start_time": "2025-03-12T01:42:57.219Z"
   },
   {
    "duration": 191,
    "start_time": "2025-03-12T01:42:57.416Z"
   },
   {
    "duration": 247,
    "start_time": "2025-03-12T01:42:57.609Z"
   },
   {
    "duration": 95,
    "start_time": "2025-03-12T01:42:57.858Z"
   },
   {
    "duration": 20,
    "start_time": "2025-03-12T01:42:57.955Z"
   },
   {
    "duration": 177,
    "start_time": "2025-03-12T01:42:57.977Z"
   },
   {
    "duration": 15,
    "start_time": "2025-03-12T01:42:58.156Z"
   },
   {
    "duration": 302,
    "start_time": "2025-03-12T01:42:58.173Z"
   },
   {
    "duration": 4,
    "start_time": "2025-03-12T01:42:58.477Z"
   },
   {
    "duration": 128,
    "start_time": "2025-03-12T01:42:58.482Z"
   },
   {
    "duration": 4,
    "start_time": "2025-03-12T01:42:58.612Z"
   },
   {
    "duration": 10,
    "start_time": "2025-03-12T01:42:58.618Z"
   },
   {
    "duration": 151,
    "start_time": "2025-03-12T01:42:58.629Z"
   },
   {
    "duration": 8,
    "start_time": "2025-03-12T01:42:58.782Z"
   },
   {
    "duration": 6,
    "start_time": "2025-03-12T01:42:58.792Z"
   },
   {
    "duration": 19,
    "start_time": "2025-03-12T01:42:58.800Z"
   },
   {
    "duration": 9,
    "start_time": "2025-03-12T01:42:58.821Z"
   },
   {
    "duration": 2589,
    "start_time": "2025-03-12T04:36:22.206Z"
   },
   {
    "duration": 11,
    "start_time": "2025-03-12T04:36:24.798Z"
   },
   {
    "duration": 18,
    "start_time": "2025-03-12T04:36:24.810Z"
   },
   {
    "duration": 16,
    "start_time": "2025-03-12T04:36:24.830Z"
   },
   {
    "duration": 13,
    "start_time": "2025-03-12T04:36:24.849Z"
   },
   {
    "duration": 11,
    "start_time": "2025-03-12T04:36:24.864Z"
   },
   {
    "duration": 30,
    "start_time": "2025-03-12T04:36:24.876Z"
   },
   {
    "duration": 9,
    "start_time": "2025-03-12T04:36:24.908Z"
   },
   {
    "duration": 8,
    "start_time": "2025-03-12T04:36:24.919Z"
   },
   {
    "duration": 6,
    "start_time": "2025-03-12T04:36:24.929Z"
   },
   {
    "duration": 3,
    "start_time": "2025-03-12T04:36:24.936Z"
   },
   {
    "duration": 11,
    "start_time": "2025-03-12T04:36:24.941Z"
   },
   {
    "duration": 4,
    "start_time": "2025-03-12T04:36:24.953Z"
   },
   {
    "duration": 5,
    "start_time": "2025-03-12T04:36:25.004Z"
   },
   {
    "duration": 10,
    "start_time": "2025-03-12T04:36:25.011Z"
   },
   {
    "duration": 16,
    "start_time": "2025-03-12T04:36:25.022Z"
   },
   {
    "duration": 167,
    "start_time": "2025-03-12T04:36:25.040Z"
   },
   {
    "duration": 188,
    "start_time": "2025-03-12T04:36:25.209Z"
   },
   {
    "duration": 212,
    "start_time": "2025-03-12T04:36:25.398Z"
   },
   {
    "duration": 286,
    "start_time": "2025-03-12T04:36:25.612Z"
   },
   {
    "duration": 87,
    "start_time": "2025-03-12T04:36:25.905Z"
   },
   {
    "duration": 17,
    "start_time": "2025-03-12T04:36:26.005Z"
   },
   {
    "duration": 182,
    "start_time": "2025-03-12T04:36:26.023Z"
   },
   {
    "duration": 9,
    "start_time": "2025-03-12T04:36:26.207Z"
   },
   {
    "duration": 245,
    "start_time": "2025-03-12T04:36:26.218Z"
   },
   {
    "duration": 4,
    "start_time": "2025-03-12T04:36:26.464Z"
   },
   {
    "duration": 154,
    "start_time": "2025-03-12T04:36:26.470Z"
   },
   {
    "duration": 4,
    "start_time": "2025-03-12T04:36:26.626Z"
   },
   {
    "duration": 15,
    "start_time": "2025-03-12T04:36:26.632Z"
   },
   {
    "duration": 150,
    "start_time": "2025-03-12T04:36:26.649Z"
   },
   {
    "duration": 10,
    "start_time": "2025-03-12T04:36:26.804Z"
   },
   {
    "duration": 10,
    "start_time": "2025-03-12T04:36:26.815Z"
   },
   {
    "duration": 21,
    "start_time": "2025-03-12T04:36:26.828Z"
   },
   {
    "duration": 9,
    "start_time": "2025-03-12T04:36:26.851Z"
   },
   {
    "duration": 303,
    "start_time": "2025-03-12T04:43:01.418Z"
   },
   {
    "duration": 824,
    "start_time": "2025-03-12T04:43:13.798Z"
   },
   {
    "duration": 6,
    "start_time": "2025-03-12T04:43:14.625Z"
   },
   {
    "duration": 15,
    "start_time": "2025-03-12T04:43:14.633Z"
   },
   {
    "duration": 8,
    "start_time": "2025-03-12T04:43:14.651Z"
   },
   {
    "duration": 14,
    "start_time": "2025-03-12T04:43:14.661Z"
   },
   {
    "duration": 40,
    "start_time": "2025-03-12T04:43:14.677Z"
   },
   {
    "duration": 10,
    "start_time": "2025-03-12T04:43:14.719Z"
   },
   {
    "duration": 12,
    "start_time": "2025-03-12T04:43:14.730Z"
   },
   {
    "duration": 10,
    "start_time": "2025-03-12T04:43:14.744Z"
   },
   {
    "duration": 5,
    "start_time": "2025-03-12T04:43:14.759Z"
   },
   {
    "duration": 4,
    "start_time": "2025-03-12T04:43:14.765Z"
   },
   {
    "duration": 11,
    "start_time": "2025-03-12T04:43:14.805Z"
   },
   {
    "duration": 5,
    "start_time": "2025-03-12T04:43:14.818Z"
   },
   {
    "duration": 6,
    "start_time": "2025-03-12T04:43:14.824Z"
   },
   {
    "duration": 10,
    "start_time": "2025-03-12T04:43:14.832Z"
   },
   {
    "duration": 19,
    "start_time": "2025-03-12T04:43:14.844Z"
   },
   {
    "duration": 183,
    "start_time": "2025-03-12T04:43:14.865Z"
   },
   {
    "duration": 189,
    "start_time": "2025-03-12T04:43:15.051Z"
   },
   {
    "duration": 208,
    "start_time": "2025-03-12T04:43:15.242Z"
   },
   {
    "duration": 261,
    "start_time": "2025-03-12T04:43:15.452Z"
   },
   {
    "duration": 115,
    "start_time": "2025-03-12T04:43:15.715Z"
   },
   {
    "duration": 13,
    "start_time": "2025-03-12T04:43:15.833Z"
   },
   {
    "duration": 192,
    "start_time": "2025-03-12T04:43:15.848Z"
   },
   {
    "duration": 7,
    "start_time": "2025-03-12T04:43:16.042Z"
   },
   {
    "duration": 294,
    "start_time": "2025-03-12T04:43:16.051Z"
   },
   {
    "duration": 5,
    "start_time": "2025-03-12T04:43:16.347Z"
   },
   {
    "duration": 140,
    "start_time": "2025-03-12T04:43:16.354Z"
   },
   {
    "duration": 8,
    "start_time": "2025-03-12T04:43:16.498Z"
   },
   {
    "duration": 10,
    "start_time": "2025-03-12T04:43:16.509Z"
   },
   {
    "duration": 176,
    "start_time": "2025-03-12T04:43:16.521Z"
   },
   {
    "duration": 14,
    "start_time": "2025-03-12T04:43:16.699Z"
   },
   {
    "duration": 7,
    "start_time": "2025-03-12T04:43:16.715Z"
   },
   {
    "duration": 27,
    "start_time": "2025-03-12T04:43:16.724Z"
   },
   {
    "duration": 9,
    "start_time": "2025-03-12T04:43:16.753Z"
   },
   {
    "duration": 145,
    "start_time": "2025-03-12T04:46:38.302Z"
   },
   {
    "duration": 9,
    "start_time": "2025-03-12T05:07:47.303Z"
   },
   {
    "duration": 10,
    "start_time": "2025-03-12T05:09:37.431Z"
   },
   {
    "duration": 11,
    "start_time": "2025-03-12T05:16:58.515Z"
   },
   {
    "duration": 10,
    "start_time": "2025-03-12T05:17:08.377Z"
   },
   {
    "duration": 10,
    "start_time": "2025-03-12T05:17:08.839Z"
   },
   {
    "duration": 10,
    "start_time": "2025-03-12T05:25:01.766Z"
   },
   {
    "duration": 13,
    "start_time": "2025-03-12T05:30:29.741Z"
   },
   {
    "duration": 12,
    "start_time": "2025-03-12T05:30:48.947Z"
   },
   {
    "duration": 8,
    "start_time": "2025-03-12T05:31:53.541Z"
   },
   {
    "duration": 6,
    "start_time": "2025-03-12T05:35:50.753Z"
   },
   {
    "duration": 7,
    "start_time": "2025-03-12T05:36:25.275Z"
   },
   {
    "duration": 120,
    "start_time": "2025-03-12T05:44:00.348Z"
   },
   {
    "duration": 9,
    "start_time": "2025-03-12T05:44:07.178Z"
   },
   {
    "duration": 130,
    "start_time": "2025-03-12T05:50:28.438Z"
   },
   {
    "duration": 9,
    "start_time": "2025-03-12T06:01:04.384Z"
   },
   {
    "duration": 11,
    "start_time": "2025-03-12T06:13:32.050Z"
   }
  ],
  "kernelspec": {
   "display_name": "Python 3 (ipykernel)",
   "language": "python",
   "name": "python3"
  },
  "language_info": {
   "codemirror_mode": {
    "name": "ipython",
    "version": 3
   },
   "file_extension": ".py",
   "mimetype": "text/x-python",
   "name": "python",
   "nbconvert_exporter": "python",
   "pygments_lexer": "ipython3",
   "version": "3.12.4"
  },
  "toc": {
   "base_numbering": 1,
   "nav_menu": {},
   "number_sections": true,
   "sideBar": true,
   "skip_h1_title": true,
   "title_cell": "Table of Contents",
   "title_sidebar": "Contents",
   "toc_cell": false,
   "toc_position": {},
   "toc_section_display": true,
   "toc_window_display": false
  }
 },
 "nbformat": 4,
 "nbformat_minor": 4
}
